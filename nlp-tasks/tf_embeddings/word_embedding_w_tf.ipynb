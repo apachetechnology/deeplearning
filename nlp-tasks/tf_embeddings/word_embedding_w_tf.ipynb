{
 "cells": [
  {
   "cell_type": "markdown",
   "metadata": {},
   "source": [
    "# Word Embedding"
   ]
  },
  {
   "cell_type": "code",
   "execution_count": 10,
   "metadata": {},
   "outputs": [
    {
     "name": "stdout",
     "output_type": "stream",
     "text": [
      "1.13.1\n"
     ]
    }
   ],
   "source": [
    "import tensorflow as tf\n",
    "import numpy as np\n",
    "print(tf.__version__)"
   ]
  },
  {
   "cell_type": "code",
   "execution_count": 2,
   "metadata": {},
   "outputs": [],
   "source": [
    "tf.enable_eager_execution() #need this if tf is 1.x not needed in 2.x"
   ]
  },
  {
   "cell_type": "code",
   "execution_count": 3,
   "metadata": {},
   "outputs": [
    {
     "name": "stdout",
     "output_type": "stream",
     "text": [
      "\u001b[33mYou are using pip version 10.0.1, however version 19.2.2 is available.\r\n",
      "You should consider upgrading via the 'pip install --upgrade pip' command.\u001b[0m\r\n"
     ]
    }
   ],
   "source": [
    "!pip install -q tensorflow-datasets"
   ]
  },
  {
   "cell_type": "code",
   "execution_count": 4,
   "metadata": {},
   "outputs": [
    {
     "name": "stdout",
     "output_type": "stream",
     "text": [
      "\n",
      "WARNING: The TensorFlow contrib module will not be included in TensorFlow 2.0.\n",
      "For more information, please see:\n",
      "  * https://github.com/tensorflow/community/blob/master/rfcs/20180907-contrib-sunset.md\n",
      "  * https://github.com/tensorflow/addons\n",
      "If you depend on functionality not listed there, please file an issue.\n",
      "\n",
      "\u001b[1mDownloading and preparing dataset imdb_reviews (80.23 MiB) to /home/ec2-user/tensorflow_datasets/imdb_reviews/plain_text/0.1.0...\u001b[0m\n"
     ]
    },
    {
     "data": {
      "application/vnd.jupyter.widget-view+json": {
       "model_id": "bfd0e76957334f61ae16d63e68aaa534",
       "version_major": 2,
       "version_minor": 0
      },
      "text/plain": [
       "HBox(children=(IntProgress(value=1, bar_style='info', description='Dl Completed...', max=1, style=ProgressStyl…"
      ]
     },
     "metadata": {},
     "output_type": "display_data"
    },
    {
     "data": {
      "application/vnd.jupyter.widget-view+json": {
       "model_id": "44036ef368e2469986b3e9d85429994d",
       "version_major": 2,
       "version_minor": 0
      },
      "text/plain": [
       "HBox(children=(IntProgress(value=1, bar_style='info', description='Dl Size...', max=1, style=ProgressStyle(des…"
      ]
     },
     "metadata": {},
     "output_type": "display_data"
    },
    {
     "name": "stdout",
     "output_type": "stream",
     "text": [
      "\n",
      "\n",
      "\n"
     ]
    },
    {
     "data": {
      "application/vnd.jupyter.widget-view+json": {
       "model_id": "",
       "version_major": 2,
       "version_minor": 0
      },
      "text/plain": [
       "HBox(children=(IntProgress(value=1, bar_style='info', max=1), HTML(value='')))"
      ]
     },
     "metadata": {},
     "output_type": "display_data"
    },
    {
     "name": "stdout",
     "output_type": "stream",
     "text": [
      "\r"
     ]
    },
    {
     "data": {
      "application/vnd.jupyter.widget-view+json": {
       "model_id": "",
       "version_major": 2,
       "version_minor": 0
      },
      "text/plain": [
       "HBox(children=(IntProgress(value=0, description='Shuffling...', max=10, style=ProgressStyle(description_width=…"
      ]
     },
     "metadata": {},
     "output_type": "display_data"
    },
    {
     "name": "stdout",
     "output_type": "stream",
     "text": [
      "WARNING:tensorflow:From /home/ec2-user/anaconda3/envs/amazonei_tensorflow_p36/lib/python3.6/site-packages/tensorflow_datasets/core/file_format_adapter.py:209: tf_record_iterator (from tensorflow.python.lib.io.tf_record) is deprecated and will be removed in a future version.\n",
      "Instructions for updating:\n",
      "Use eager execution and: \n",
      "`tf.data.TFRecordDataset(path)`\n"
     ]
    },
    {
     "name": "stderr",
     "output_type": "stream",
     "text": [
      "WARNING: Logging before flag parsing goes to stderr.\n",
      "W0817 23:40:10.369742 139878793643840 deprecation.py:323] From /home/ec2-user/anaconda3/envs/amazonei_tensorflow_p36/lib/python3.6/site-packages/tensorflow_datasets/core/file_format_adapter.py:209: tf_record_iterator (from tensorflow.python.lib.io.tf_record) is deprecated and will be removed in a future version.\n",
      "Instructions for updating:\n",
      "Use eager execution and: \n",
      "`tf.data.TFRecordDataset(path)`\n"
     ]
    },
    {
     "data": {
      "application/vnd.jupyter.widget-view+json": {
       "model_id": "",
       "version_major": 2,
       "version_minor": 0
      },
      "text/plain": [
       "HBox(children=(IntProgress(value=1, bar_style='info', description='Reading...', max=1, style=ProgressStyle(des…"
      ]
     },
     "metadata": {},
     "output_type": "display_data"
    },
    {
     "data": {
      "application/vnd.jupyter.widget-view+json": {
       "model_id": "",
       "version_major": 2,
       "version_minor": 0
      },
      "text/plain": [
       "HBox(children=(IntProgress(value=0, description='Writing...', max=2500, style=ProgressStyle(description_width=…"
      ]
     },
     "metadata": {},
     "output_type": "display_data"
    },
    {
     "data": {
      "application/vnd.jupyter.widget-view+json": {
       "model_id": "",
       "version_major": 2,
       "version_minor": 0
      },
      "text/plain": [
       "HBox(children=(IntProgress(value=1, bar_style='info', description='Reading...', max=1, style=ProgressStyle(des…"
      ]
     },
     "metadata": {},
     "output_type": "display_data"
    },
    {
     "data": {
      "application/vnd.jupyter.widget-view+json": {
       "model_id": "",
       "version_major": 2,
       "version_minor": 0
      },
      "text/plain": [
       "HBox(children=(IntProgress(value=0, description='Writing...', max=2500, style=ProgressStyle(description_width=…"
      ]
     },
     "metadata": {},
     "output_type": "display_data"
    },
    {
     "data": {
      "application/vnd.jupyter.widget-view+json": {
       "model_id": "",
       "version_major": 2,
       "version_minor": 0
      },
      "text/plain": [
       "HBox(children=(IntProgress(value=1, bar_style='info', description='Reading...', max=1, style=ProgressStyle(des…"
      ]
     },
     "metadata": {},
     "output_type": "display_data"
    },
    {
     "data": {
      "application/vnd.jupyter.widget-view+json": {
       "model_id": "",
       "version_major": 2,
       "version_minor": 0
      },
      "text/plain": [
       "HBox(children=(IntProgress(value=0, description='Writing...', max=2500, style=ProgressStyle(description_width=…"
      ]
     },
     "metadata": {},
     "output_type": "display_data"
    },
    {
     "data": {
      "application/vnd.jupyter.widget-view+json": {
       "model_id": "",
       "version_major": 2,
       "version_minor": 0
      },
      "text/plain": [
       "HBox(children=(IntProgress(value=1, bar_style='info', description='Reading...', max=1, style=ProgressStyle(des…"
      ]
     },
     "metadata": {},
     "output_type": "display_data"
    },
    {
     "data": {
      "application/vnd.jupyter.widget-view+json": {
       "model_id": "",
       "version_major": 2,
       "version_minor": 0
      },
      "text/plain": [
       "HBox(children=(IntProgress(value=0, description='Writing...', max=2500, style=ProgressStyle(description_width=…"
      ]
     },
     "metadata": {},
     "output_type": "display_data"
    },
    {
     "data": {
      "application/vnd.jupyter.widget-view+json": {
       "model_id": "",
       "version_major": 2,
       "version_minor": 0
      },
      "text/plain": [
       "HBox(children=(IntProgress(value=1, bar_style='info', description='Reading...', max=1, style=ProgressStyle(des…"
      ]
     },
     "metadata": {},
     "output_type": "display_data"
    },
    {
     "data": {
      "application/vnd.jupyter.widget-view+json": {
       "model_id": "",
       "version_major": 2,
       "version_minor": 0
      },
      "text/plain": [
       "HBox(children=(IntProgress(value=0, description='Writing...', max=2500, style=ProgressStyle(description_width=…"
      ]
     },
     "metadata": {},
     "output_type": "display_data"
    },
    {
     "data": {
      "application/vnd.jupyter.widget-view+json": {
       "model_id": "",
       "version_major": 2,
       "version_minor": 0
      },
      "text/plain": [
       "HBox(children=(IntProgress(value=1, bar_style='info', description='Reading...', max=1, style=ProgressStyle(des…"
      ]
     },
     "metadata": {},
     "output_type": "display_data"
    },
    {
     "data": {
      "application/vnd.jupyter.widget-view+json": {
       "model_id": "",
       "version_major": 2,
       "version_minor": 0
      },
      "text/plain": [
       "HBox(children=(IntProgress(value=0, description='Writing...', max=2500, style=ProgressStyle(description_width=…"
      ]
     },
     "metadata": {},
     "output_type": "display_data"
    },
    {
     "data": {
      "application/vnd.jupyter.widget-view+json": {
       "model_id": "",
       "version_major": 2,
       "version_minor": 0
      },
      "text/plain": [
       "HBox(children=(IntProgress(value=1, bar_style='info', description='Reading...', max=1, style=ProgressStyle(des…"
      ]
     },
     "metadata": {},
     "output_type": "display_data"
    },
    {
     "data": {
      "application/vnd.jupyter.widget-view+json": {
       "model_id": "",
       "version_major": 2,
       "version_minor": 0
      },
      "text/plain": [
       "HBox(children=(IntProgress(value=0, description='Writing...', max=2500, style=ProgressStyle(description_width=…"
      ]
     },
     "metadata": {},
     "output_type": "display_data"
    },
    {
     "data": {
      "application/vnd.jupyter.widget-view+json": {
       "model_id": "",
       "version_major": 2,
       "version_minor": 0
      },
      "text/plain": [
       "HBox(children=(IntProgress(value=1, bar_style='info', description='Reading...', max=1, style=ProgressStyle(des…"
      ]
     },
     "metadata": {},
     "output_type": "display_data"
    },
    {
     "data": {
      "application/vnd.jupyter.widget-view+json": {
       "model_id": "",
       "version_major": 2,
       "version_minor": 0
      },
      "text/plain": [
       "HBox(children=(IntProgress(value=0, description='Writing...', max=2500, style=ProgressStyle(description_width=…"
      ]
     },
     "metadata": {},
     "output_type": "display_data"
    },
    {
     "data": {
      "application/vnd.jupyter.widget-view+json": {
       "model_id": "",
       "version_major": 2,
       "version_minor": 0
      },
      "text/plain": [
       "HBox(children=(IntProgress(value=1, bar_style='info', description='Reading...', max=1, style=ProgressStyle(des…"
      ]
     },
     "metadata": {},
     "output_type": "display_data"
    },
    {
     "data": {
      "application/vnd.jupyter.widget-view+json": {
       "model_id": "",
       "version_major": 2,
       "version_minor": 0
      },
      "text/plain": [
       "HBox(children=(IntProgress(value=0, description='Writing...', max=2500, style=ProgressStyle(description_width=…"
      ]
     },
     "metadata": {},
     "output_type": "display_data"
    },
    {
     "data": {
      "application/vnd.jupyter.widget-view+json": {
       "model_id": "",
       "version_major": 2,
       "version_minor": 0
      },
      "text/plain": [
       "HBox(children=(IntProgress(value=1, bar_style='info', description='Reading...', max=1, style=ProgressStyle(des…"
      ]
     },
     "metadata": {},
     "output_type": "display_data"
    },
    {
     "data": {
      "application/vnd.jupyter.widget-view+json": {
       "model_id": "",
       "version_major": 2,
       "version_minor": 0
      },
      "text/plain": [
       "HBox(children=(IntProgress(value=0, description='Writing...', max=2500, style=ProgressStyle(description_width=…"
      ]
     },
     "metadata": {},
     "output_type": "display_data"
    },
    {
     "name": "stdout",
     "output_type": "stream",
     "text": [
      "\r"
     ]
    },
    {
     "data": {
      "application/vnd.jupyter.widget-view+json": {
       "model_id": "",
       "version_major": 2,
       "version_minor": 0
      },
      "text/plain": [
       "HBox(children=(IntProgress(value=1, bar_style='info', max=1), HTML(value='')))"
      ]
     },
     "metadata": {},
     "output_type": "display_data"
    },
    {
     "name": "stdout",
     "output_type": "stream",
     "text": [
      "\r"
     ]
    },
    {
     "data": {
      "application/vnd.jupyter.widget-view+json": {
       "model_id": "",
       "version_major": 2,
       "version_minor": 0
      },
      "text/plain": [
       "HBox(children=(IntProgress(value=0, description='Shuffling...', max=10, style=ProgressStyle(description_width=…"
      ]
     },
     "metadata": {},
     "output_type": "display_data"
    },
    {
     "data": {
      "application/vnd.jupyter.widget-view+json": {
       "model_id": "",
       "version_major": 2,
       "version_minor": 0
      },
      "text/plain": [
       "HBox(children=(IntProgress(value=1, bar_style='info', description='Reading...', max=1, style=ProgressStyle(des…"
      ]
     },
     "metadata": {},
     "output_type": "display_data"
    },
    {
     "data": {
      "application/vnd.jupyter.widget-view+json": {
       "model_id": "",
       "version_major": 2,
       "version_minor": 0
      },
      "text/plain": [
       "HBox(children=(IntProgress(value=0, description='Writing...', max=2500, style=ProgressStyle(description_width=…"
      ]
     },
     "metadata": {},
     "output_type": "display_data"
    },
    {
     "data": {
      "application/vnd.jupyter.widget-view+json": {
       "model_id": "",
       "version_major": 2,
       "version_minor": 0
      },
      "text/plain": [
       "HBox(children=(IntProgress(value=1, bar_style='info', description='Reading...', max=1, style=ProgressStyle(des…"
      ]
     },
     "metadata": {},
     "output_type": "display_data"
    },
    {
     "data": {
      "application/vnd.jupyter.widget-view+json": {
       "model_id": "",
       "version_major": 2,
       "version_minor": 0
      },
      "text/plain": [
       "HBox(children=(IntProgress(value=0, description='Writing...', max=2500, style=ProgressStyle(description_width=…"
      ]
     },
     "metadata": {},
     "output_type": "display_data"
    },
    {
     "data": {
      "application/vnd.jupyter.widget-view+json": {
       "model_id": "",
       "version_major": 2,
       "version_minor": 0
      },
      "text/plain": [
       "HBox(children=(IntProgress(value=1, bar_style='info', description='Reading...', max=1, style=ProgressStyle(des…"
      ]
     },
     "metadata": {},
     "output_type": "display_data"
    },
    {
     "data": {
      "application/vnd.jupyter.widget-view+json": {
       "model_id": "",
       "version_major": 2,
       "version_minor": 0
      },
      "text/plain": [
       "HBox(children=(IntProgress(value=0, description='Writing...', max=2500, style=ProgressStyle(description_width=…"
      ]
     },
     "metadata": {},
     "output_type": "display_data"
    },
    {
     "data": {
      "application/vnd.jupyter.widget-view+json": {
       "model_id": "",
       "version_major": 2,
       "version_minor": 0
      },
      "text/plain": [
       "HBox(children=(IntProgress(value=1, bar_style='info', description='Reading...', max=1, style=ProgressStyle(des…"
      ]
     },
     "metadata": {},
     "output_type": "display_data"
    },
    {
     "data": {
      "application/vnd.jupyter.widget-view+json": {
       "model_id": "",
       "version_major": 2,
       "version_minor": 0
      },
      "text/plain": [
       "HBox(children=(IntProgress(value=0, description='Writing...', max=2500, style=ProgressStyle(description_width=…"
      ]
     },
     "metadata": {},
     "output_type": "display_data"
    },
    {
     "data": {
      "application/vnd.jupyter.widget-view+json": {
       "model_id": "",
       "version_major": 2,
       "version_minor": 0
      },
      "text/plain": [
       "HBox(children=(IntProgress(value=1, bar_style='info', description='Reading...', max=1, style=ProgressStyle(des…"
      ]
     },
     "metadata": {},
     "output_type": "display_data"
    },
    {
     "data": {
      "application/vnd.jupyter.widget-view+json": {
       "model_id": "",
       "version_major": 2,
       "version_minor": 0
      },
      "text/plain": [
       "HBox(children=(IntProgress(value=0, description='Writing...', max=2500, style=ProgressStyle(description_width=…"
      ]
     },
     "metadata": {},
     "output_type": "display_data"
    },
    {
     "data": {
      "application/vnd.jupyter.widget-view+json": {
       "model_id": "",
       "version_major": 2,
       "version_minor": 0
      },
      "text/plain": [
       "HBox(children=(IntProgress(value=1, bar_style='info', description='Reading...', max=1, style=ProgressStyle(des…"
      ]
     },
     "metadata": {},
     "output_type": "display_data"
    },
    {
     "data": {
      "application/vnd.jupyter.widget-view+json": {
       "model_id": "",
       "version_major": 2,
       "version_minor": 0
      },
      "text/plain": [
       "HBox(children=(IntProgress(value=0, description='Writing...', max=2500, style=ProgressStyle(description_width=…"
      ]
     },
     "metadata": {},
     "output_type": "display_data"
    },
    {
     "data": {
      "application/vnd.jupyter.widget-view+json": {
       "model_id": "",
       "version_major": 2,
       "version_minor": 0
      },
      "text/plain": [
       "HBox(children=(IntProgress(value=1, bar_style='info', description='Reading...', max=1, style=ProgressStyle(des…"
      ]
     },
     "metadata": {},
     "output_type": "display_data"
    },
    {
     "data": {
      "application/vnd.jupyter.widget-view+json": {
       "model_id": "",
       "version_major": 2,
       "version_minor": 0
      },
      "text/plain": [
       "HBox(children=(IntProgress(value=0, description='Writing...', max=2500, style=ProgressStyle(description_width=…"
      ]
     },
     "metadata": {},
     "output_type": "display_data"
    },
    {
     "data": {
      "application/vnd.jupyter.widget-view+json": {
       "model_id": "",
       "version_major": 2,
       "version_minor": 0
      },
      "text/plain": [
       "HBox(children=(IntProgress(value=1, bar_style='info', description='Reading...', max=1, style=ProgressStyle(des…"
      ]
     },
     "metadata": {},
     "output_type": "display_data"
    },
    {
     "data": {
      "application/vnd.jupyter.widget-view+json": {
       "model_id": "",
       "version_major": 2,
       "version_minor": 0
      },
      "text/plain": [
       "HBox(children=(IntProgress(value=0, description='Writing...', max=2500, style=ProgressStyle(description_width=…"
      ]
     },
     "metadata": {},
     "output_type": "display_data"
    },
    {
     "data": {
      "application/vnd.jupyter.widget-view+json": {
       "model_id": "",
       "version_major": 2,
       "version_minor": 0
      },
      "text/plain": [
       "HBox(children=(IntProgress(value=1, bar_style='info', description='Reading...', max=1, style=ProgressStyle(des…"
      ]
     },
     "metadata": {},
     "output_type": "display_data"
    },
    {
     "data": {
      "application/vnd.jupyter.widget-view+json": {
       "model_id": "",
       "version_major": 2,
       "version_minor": 0
      },
      "text/plain": [
       "HBox(children=(IntProgress(value=0, description='Writing...', max=2500, style=ProgressStyle(description_width=…"
      ]
     },
     "metadata": {},
     "output_type": "display_data"
    },
    {
     "data": {
      "application/vnd.jupyter.widget-view+json": {
       "model_id": "",
       "version_major": 2,
       "version_minor": 0
      },
      "text/plain": [
       "HBox(children=(IntProgress(value=1, bar_style='info', description='Reading...', max=1, style=ProgressStyle(des…"
      ]
     },
     "metadata": {},
     "output_type": "display_data"
    },
    {
     "data": {
      "application/vnd.jupyter.widget-view+json": {
       "model_id": "",
       "version_major": 2,
       "version_minor": 0
      },
      "text/plain": [
       "HBox(children=(IntProgress(value=0, description='Writing...', max=2500, style=ProgressStyle(description_width=…"
      ]
     },
     "metadata": {},
     "output_type": "display_data"
    },
    {
     "name": "stdout",
     "output_type": "stream",
     "text": [
      "\r"
     ]
    },
    {
     "data": {
      "application/vnd.jupyter.widget-view+json": {
       "model_id": "",
       "version_major": 2,
       "version_minor": 0
      },
      "text/plain": [
       "HBox(children=(IntProgress(value=1, bar_style='info', max=1), HTML(value='')))"
      ]
     },
     "metadata": {},
     "output_type": "display_data"
    },
    {
     "name": "stdout",
     "output_type": "stream",
     "text": [
      "\r"
     ]
    },
    {
     "data": {
      "application/vnd.jupyter.widget-view+json": {
       "model_id": "",
       "version_major": 2,
       "version_minor": 0
      },
      "text/plain": [
       "HBox(children=(IntProgress(value=0, description='Shuffling...', max=20, style=ProgressStyle(description_width=…"
      ]
     },
     "metadata": {},
     "output_type": "display_data"
    },
    {
     "data": {
      "application/vnd.jupyter.widget-view+json": {
       "model_id": "",
       "version_major": 2,
       "version_minor": 0
      },
      "text/plain": [
       "HBox(children=(IntProgress(value=1, bar_style='info', description='Reading...', max=1, style=ProgressStyle(des…"
      ]
     },
     "metadata": {},
     "output_type": "display_data"
    },
    {
     "data": {
      "application/vnd.jupyter.widget-view+json": {
       "model_id": "",
       "version_major": 2,
       "version_minor": 0
      },
      "text/plain": [
       "HBox(children=(IntProgress(value=0, description='Writing...', max=2500, style=ProgressStyle(description_width=…"
      ]
     },
     "metadata": {},
     "output_type": "display_data"
    },
    {
     "data": {
      "application/vnd.jupyter.widget-view+json": {
       "model_id": "",
       "version_major": 2,
       "version_minor": 0
      },
      "text/plain": [
       "HBox(children=(IntProgress(value=1, bar_style='info', description='Reading...', max=1, style=ProgressStyle(des…"
      ]
     },
     "metadata": {},
     "output_type": "display_data"
    },
    {
     "data": {
      "application/vnd.jupyter.widget-view+json": {
       "model_id": "",
       "version_major": 2,
       "version_minor": 0
      },
      "text/plain": [
       "HBox(children=(IntProgress(value=0, description='Writing...', max=2500, style=ProgressStyle(description_width=…"
      ]
     },
     "metadata": {},
     "output_type": "display_data"
    },
    {
     "data": {
      "application/vnd.jupyter.widget-view+json": {
       "model_id": "",
       "version_major": 2,
       "version_minor": 0
      },
      "text/plain": [
       "HBox(children=(IntProgress(value=1, bar_style='info', description='Reading...', max=1, style=ProgressStyle(des…"
      ]
     },
     "metadata": {},
     "output_type": "display_data"
    },
    {
     "data": {
      "application/vnd.jupyter.widget-view+json": {
       "model_id": "",
       "version_major": 2,
       "version_minor": 0
      },
      "text/plain": [
       "HBox(children=(IntProgress(value=0, description='Writing...', max=2500, style=ProgressStyle(description_width=…"
      ]
     },
     "metadata": {},
     "output_type": "display_data"
    },
    {
     "data": {
      "application/vnd.jupyter.widget-view+json": {
       "model_id": "",
       "version_major": 2,
       "version_minor": 0
      },
      "text/plain": [
       "HBox(children=(IntProgress(value=1, bar_style='info', description='Reading...', max=1, style=ProgressStyle(des…"
      ]
     },
     "metadata": {},
     "output_type": "display_data"
    },
    {
     "data": {
      "application/vnd.jupyter.widget-view+json": {
       "model_id": "",
       "version_major": 2,
       "version_minor": 0
      },
      "text/plain": [
       "HBox(children=(IntProgress(value=0, description='Writing...', max=2500, style=ProgressStyle(description_width=…"
      ]
     },
     "metadata": {},
     "output_type": "display_data"
    },
    {
     "data": {
      "application/vnd.jupyter.widget-view+json": {
       "model_id": "",
       "version_major": 2,
       "version_minor": 0
      },
      "text/plain": [
       "HBox(children=(IntProgress(value=1, bar_style='info', description='Reading...', max=1, style=ProgressStyle(des…"
      ]
     },
     "metadata": {},
     "output_type": "display_data"
    },
    {
     "data": {
      "application/vnd.jupyter.widget-view+json": {
       "model_id": "",
       "version_major": 2,
       "version_minor": 0
      },
      "text/plain": [
       "HBox(children=(IntProgress(value=0, description='Writing...', max=2500, style=ProgressStyle(description_width=…"
      ]
     },
     "metadata": {},
     "output_type": "display_data"
    },
    {
     "data": {
      "application/vnd.jupyter.widget-view+json": {
       "model_id": "",
       "version_major": 2,
       "version_minor": 0
      },
      "text/plain": [
       "HBox(children=(IntProgress(value=1, bar_style='info', description='Reading...', max=1, style=ProgressStyle(des…"
      ]
     },
     "metadata": {},
     "output_type": "display_data"
    },
    {
     "data": {
      "application/vnd.jupyter.widget-view+json": {
       "model_id": "",
       "version_major": 2,
       "version_minor": 0
      },
      "text/plain": [
       "HBox(children=(IntProgress(value=0, description='Writing...', max=2500, style=ProgressStyle(description_width=…"
      ]
     },
     "metadata": {},
     "output_type": "display_data"
    },
    {
     "data": {
      "application/vnd.jupyter.widget-view+json": {
       "model_id": "",
       "version_major": 2,
       "version_minor": 0
      },
      "text/plain": [
       "HBox(children=(IntProgress(value=1, bar_style='info', description='Reading...', max=1, style=ProgressStyle(des…"
      ]
     },
     "metadata": {},
     "output_type": "display_data"
    },
    {
     "data": {
      "application/vnd.jupyter.widget-view+json": {
       "model_id": "",
       "version_major": 2,
       "version_minor": 0
      },
      "text/plain": [
       "HBox(children=(IntProgress(value=0, description='Writing...', max=2500, style=ProgressStyle(description_width=…"
      ]
     },
     "metadata": {},
     "output_type": "display_data"
    },
    {
     "data": {
      "application/vnd.jupyter.widget-view+json": {
       "model_id": "",
       "version_major": 2,
       "version_minor": 0
      },
      "text/plain": [
       "HBox(children=(IntProgress(value=1, bar_style='info', description='Reading...', max=1, style=ProgressStyle(des…"
      ]
     },
     "metadata": {},
     "output_type": "display_data"
    },
    {
     "data": {
      "application/vnd.jupyter.widget-view+json": {
       "model_id": "",
       "version_major": 2,
       "version_minor": 0
      },
      "text/plain": [
       "HBox(children=(IntProgress(value=0, description='Writing...', max=2500, style=ProgressStyle(description_width=…"
      ]
     },
     "metadata": {},
     "output_type": "display_data"
    },
    {
     "data": {
      "application/vnd.jupyter.widget-view+json": {
       "model_id": "",
       "version_major": 2,
       "version_minor": 0
      },
      "text/plain": [
       "HBox(children=(IntProgress(value=1, bar_style='info', description='Reading...', max=1, style=ProgressStyle(des…"
      ]
     },
     "metadata": {},
     "output_type": "display_data"
    },
    {
     "data": {
      "application/vnd.jupyter.widget-view+json": {
       "model_id": "",
       "version_major": 2,
       "version_minor": 0
      },
      "text/plain": [
       "HBox(children=(IntProgress(value=0, description='Writing...', max=2500, style=ProgressStyle(description_width=…"
      ]
     },
     "metadata": {},
     "output_type": "display_data"
    },
    {
     "data": {
      "application/vnd.jupyter.widget-view+json": {
       "model_id": "",
       "version_major": 2,
       "version_minor": 0
      },
      "text/plain": [
       "HBox(children=(IntProgress(value=1, bar_style='info', description='Reading...', max=1, style=ProgressStyle(des…"
      ]
     },
     "metadata": {},
     "output_type": "display_data"
    },
    {
     "data": {
      "application/vnd.jupyter.widget-view+json": {
       "model_id": "",
       "version_major": 2,
       "version_minor": 0
      },
      "text/plain": [
       "HBox(children=(IntProgress(value=0, description='Writing...', max=2500, style=ProgressStyle(description_width=…"
      ]
     },
     "metadata": {},
     "output_type": "display_data"
    },
    {
     "data": {
      "application/vnd.jupyter.widget-view+json": {
       "model_id": "",
       "version_major": 2,
       "version_minor": 0
      },
      "text/plain": [
       "HBox(children=(IntProgress(value=1, bar_style='info', description='Reading...', max=1, style=ProgressStyle(des…"
      ]
     },
     "metadata": {},
     "output_type": "display_data"
    },
    {
     "data": {
      "application/vnd.jupyter.widget-view+json": {
       "model_id": "",
       "version_major": 2,
       "version_minor": 0
      },
      "text/plain": [
       "HBox(children=(IntProgress(value=0, description='Writing...', max=2500, style=ProgressStyle(description_width=…"
      ]
     },
     "metadata": {},
     "output_type": "display_data"
    },
    {
     "data": {
      "application/vnd.jupyter.widget-view+json": {
       "model_id": "",
       "version_major": 2,
       "version_minor": 0
      },
      "text/plain": [
       "HBox(children=(IntProgress(value=1, bar_style='info', description='Reading...', max=1, style=ProgressStyle(des…"
      ]
     },
     "metadata": {},
     "output_type": "display_data"
    },
    {
     "data": {
      "application/vnd.jupyter.widget-view+json": {
       "model_id": "",
       "version_major": 2,
       "version_minor": 0
      },
      "text/plain": [
       "HBox(children=(IntProgress(value=0, description='Writing...', max=2500, style=ProgressStyle(description_width=…"
      ]
     },
     "metadata": {},
     "output_type": "display_data"
    },
    {
     "data": {
      "application/vnd.jupyter.widget-view+json": {
       "model_id": "",
       "version_major": 2,
       "version_minor": 0
      },
      "text/plain": [
       "HBox(children=(IntProgress(value=1, bar_style='info', description='Reading...', max=1, style=ProgressStyle(des…"
      ]
     },
     "metadata": {},
     "output_type": "display_data"
    },
    {
     "data": {
      "application/vnd.jupyter.widget-view+json": {
       "model_id": "",
       "version_major": 2,
       "version_minor": 0
      },
      "text/plain": [
       "HBox(children=(IntProgress(value=0, description='Writing...', max=2500, style=ProgressStyle(description_width=…"
      ]
     },
     "metadata": {},
     "output_type": "display_data"
    },
    {
     "data": {
      "application/vnd.jupyter.widget-view+json": {
       "model_id": "",
       "version_major": 2,
       "version_minor": 0
      },
      "text/plain": [
       "HBox(children=(IntProgress(value=1, bar_style='info', description='Reading...', max=1, style=ProgressStyle(des…"
      ]
     },
     "metadata": {},
     "output_type": "display_data"
    },
    {
     "data": {
      "application/vnd.jupyter.widget-view+json": {
       "model_id": "",
       "version_major": 2,
       "version_minor": 0
      },
      "text/plain": [
       "HBox(children=(IntProgress(value=0, description='Writing...', max=2500, style=ProgressStyle(description_width=…"
      ]
     },
     "metadata": {},
     "output_type": "display_data"
    },
    {
     "data": {
      "application/vnd.jupyter.widget-view+json": {
       "model_id": "",
       "version_major": 2,
       "version_minor": 0
      },
      "text/plain": [
       "HBox(children=(IntProgress(value=1, bar_style='info', description='Reading...', max=1, style=ProgressStyle(des…"
      ]
     },
     "metadata": {},
     "output_type": "display_data"
    },
    {
     "data": {
      "application/vnd.jupyter.widget-view+json": {
       "model_id": "",
       "version_major": 2,
       "version_minor": 0
      },
      "text/plain": [
       "HBox(children=(IntProgress(value=0, description='Writing...', max=2500, style=ProgressStyle(description_width=…"
      ]
     },
     "metadata": {},
     "output_type": "display_data"
    },
    {
     "data": {
      "application/vnd.jupyter.widget-view+json": {
       "model_id": "",
       "version_major": 2,
       "version_minor": 0
      },
      "text/plain": [
       "HBox(children=(IntProgress(value=1, bar_style='info', description='Reading...', max=1, style=ProgressStyle(des…"
      ]
     },
     "metadata": {},
     "output_type": "display_data"
    },
    {
     "data": {
      "application/vnd.jupyter.widget-view+json": {
       "model_id": "",
       "version_major": 2,
       "version_minor": 0
      },
      "text/plain": [
       "HBox(children=(IntProgress(value=0, description='Writing...', max=2500, style=ProgressStyle(description_width=…"
      ]
     },
     "metadata": {},
     "output_type": "display_data"
    },
    {
     "data": {
      "application/vnd.jupyter.widget-view+json": {
       "model_id": "",
       "version_major": 2,
       "version_minor": 0
      },
      "text/plain": [
       "HBox(children=(IntProgress(value=1, bar_style='info', description='Reading...', max=1, style=ProgressStyle(des…"
      ]
     },
     "metadata": {},
     "output_type": "display_data"
    },
    {
     "data": {
      "application/vnd.jupyter.widget-view+json": {
       "model_id": "",
       "version_major": 2,
       "version_minor": 0
      },
      "text/plain": [
       "HBox(children=(IntProgress(value=0, description='Writing...', max=2500, style=ProgressStyle(description_width=…"
      ]
     },
     "metadata": {},
     "output_type": "display_data"
    },
    {
     "data": {
      "application/vnd.jupyter.widget-view+json": {
       "model_id": "",
       "version_major": 2,
       "version_minor": 0
      },
      "text/plain": [
       "HBox(children=(IntProgress(value=1, bar_style='info', description='Reading...', max=1, style=ProgressStyle(des…"
      ]
     },
     "metadata": {},
     "output_type": "display_data"
    },
    {
     "data": {
      "application/vnd.jupyter.widget-view+json": {
       "model_id": "",
       "version_major": 2,
       "version_minor": 0
      },
      "text/plain": [
       "HBox(children=(IntProgress(value=0, description='Writing...', max=2500, style=ProgressStyle(description_width=…"
      ]
     },
     "metadata": {},
     "output_type": "display_data"
    },
    {
     "data": {
      "application/vnd.jupyter.widget-view+json": {
       "model_id": "",
       "version_major": 2,
       "version_minor": 0
      },
      "text/plain": [
       "HBox(children=(IntProgress(value=1, bar_style='info', description='Reading...', max=1, style=ProgressStyle(des…"
      ]
     },
     "metadata": {},
     "output_type": "display_data"
    },
    {
     "data": {
      "application/vnd.jupyter.widget-view+json": {
       "model_id": "",
       "version_major": 2,
       "version_minor": 0
      },
      "text/plain": [
       "HBox(children=(IntProgress(value=0, description='Writing...', max=2500, style=ProgressStyle(description_width=…"
      ]
     },
     "metadata": {},
     "output_type": "display_data"
    },
    {
     "data": {
      "application/vnd.jupyter.widget-view+json": {
       "model_id": "",
       "version_major": 2,
       "version_minor": 0
      },
      "text/plain": [
       "HBox(children=(IntProgress(value=1, bar_style='info', description='Reading...', max=1, style=ProgressStyle(des…"
      ]
     },
     "metadata": {},
     "output_type": "display_data"
    },
    {
     "data": {
      "application/vnd.jupyter.widget-view+json": {
       "model_id": "",
       "version_major": 2,
       "version_minor": 0
      },
      "text/plain": [
       "HBox(children=(IntProgress(value=0, description='Writing...', max=2500, style=ProgressStyle(description_width=…"
      ]
     },
     "metadata": {},
     "output_type": "display_data"
    },
    {
     "name": "stdout",
     "output_type": "stream",
     "text": [
      "\r",
      "\u001b[1mDataset imdb_reviews downloaded and prepared to /home/ec2-user/tensorflow_datasets/imdb_reviews/plain_text/0.1.0. Subsequent calls will reuse this data.\u001b[0m\n"
     ]
    },
    {
     "name": "stderr",
     "output_type": "stream",
     "text": [
      "W0817 23:40:56.880090 139878793643840 dataset_builder.py:439] Warning: Setting shuffle_files=True because split=TRAIN and shuffle_files=None. This behavior will be deprecated on 2019-08-06, at which point shuffle_files=False will be the default for all splits.\n"
     ]
    }
   ],
   "source": [
    "import tensorflow_datasets as tfds\n",
    "imdb, info = tfds.load('imdb_reviews', with_info=True, as_supervised=True)"
   ]
  },
  {
   "cell_type": "code",
   "execution_count": 6,
   "metadata": {},
   "outputs": [
    {
     "name": "stdout",
     "output_type": "stream",
     "text": [
      "WARNING:tensorflow:From /home/ec2-user/anaconda3/envs/amazonei_tensorflow_p36/lib/python3.6/site-packages/tensorflow/python/data/ops/iterator_ops.py:532: colocate_with (from tensorflow.python.framework.ops) is deprecated and will be removed in a future version.\n",
      "Instructions for updating:\n",
      "Colocations handled automatically by placer.\n"
     ]
    },
    {
     "name": "stderr",
     "output_type": "stream",
     "text": [
      "W0817 23:42:51.175766 139878793643840 deprecation.py:323] From /home/ec2-user/anaconda3/envs/amazonei_tensorflow_p36/lib/python3.6/site-packages/tensorflow/python/data/ops/iterator_ops.py:532: colocate_with (from tensorflow.python.framework.ops) is deprecated and will be removed in a future version.\n",
      "Instructions for updating:\n",
      "Colocations handled automatically by placer.\n"
     ]
    }
   ],
   "source": [
    "train_data, test_data = imdb['train'], imdb['test']\n",
    "\n",
    "training_sentences =[]\n",
    "training_labels=[]\n",
    "\n",
    "testing_sentences =[]\n",
    "testing_labels =[]\n",
    "\n",
    "for s, l in train_data:\n",
    "    training_sentences.append(str(s.numpy()))\n",
    "    training_labels.append(l.numpy())\n",
    "for s, l in test_data:\n",
    "    testing_sentences.append(str(s.numpy()))\n",
    "    testing_labels.append(l.numpy())\n",
    "    "
   ]
  },
  {
   "cell_type": "code",
   "execution_count": 11,
   "metadata": {},
   "outputs": [],
   "source": [
    "training_labels_final = np.array(training_labels)\n",
    "testing_labels_final = np.array(testing_labels)\n"
   ]
  },
  {
   "cell_type": "code",
   "execution_count": 12,
   "metadata": {},
   "outputs": [
    {
     "data": {
      "text/plain": [
       "array([1, 1, 1, ..., 1, 1, 1])"
      ]
     },
     "execution_count": 12,
     "metadata": {},
     "output_type": "execute_result"
    }
   ],
   "source": [
    "testing_labels_final"
   ]
  },
  {
   "cell_type": "code",
   "execution_count": 13,
   "metadata": {},
   "outputs": [],
   "source": [
    "vocab_size = 10000\n",
    "embedding_dim = 16\n",
    "max_length = 120\n",
    "trunc_type='post'\n",
    "oov_tok = \"<OOV>\"\n",
    "\n",
    "\n",
    "from tensorflow.keras.preprocessing.text import Tokenizer\n",
    "from tensorflow.keras.preprocessing.sequence import pad_sequences\n",
    "\n",
    "tokenizer = Tokenizer(num_words = vocab_size, oov_token=oov_tok)\n",
    "tokenizer.fit_on_texts(training_sentences)\n",
    "word_index = tokenizer.word_index\n",
    "sequences = tokenizer.texts_to_sequences(training_sentences)\n",
    "padded = pad_sequences(sequences,maxlen=max_length, truncating=trunc_type) #pad to make same shape using max_length\n",
    "\n",
    "testing_sequences = tokenizer.texts_to_sequences(testing_sentences)\n",
    "testing_padded = pad_sequences(testing_sequences,maxlen=max_length)\n",
    "\n"
   ]
  },
  {
   "cell_type": "code",
   "execution_count": 16,
   "metadata": {},
   "outputs": [
    {
     "name": "stdout",
     "output_type": "stream",
     "text": [
      "_________________________________________________________________\n",
      "Layer (type)                 Output Shape              Param #   \n",
      "=================================================================\n",
      "embedding_2 (Embedding)      (None, 120, 16)           160000    \n",
      "_________________________________________________________________\n",
      "flatten_1 (Flatten)          (None, 1920)              0         \n",
      "_________________________________________________________________\n",
      "dense_4 (Dense)              (None, 6)                 11526     \n",
      "_________________________________________________________________\n",
      "dense_5 (Dense)              (None, 1)                 7         \n",
      "=================================================================\n",
      "Total params: 171,533\n",
      "Trainable params: 171,533\n",
      "Non-trainable params: 0\n",
      "_________________________________________________________________\n"
     ]
    }
   ],
   "source": [
    "model = tf.keras.Sequential([\n",
    "    tf.keras.layers.Embedding(vocab_size, embedding_dim, input_length=max_length),\n",
    "    tf.keras.layers.Flatten(),\n",
    "    tf.keras.layers.Dense(6, activation='relu'),\n",
    "    tf.keras.layers.Dense(1, activation='sigmoid')\n",
    "])\n",
    "model.compile(loss='binary_crossentropy',optimizer='adam',metrics=['accuracy'])\n",
    "model.summary()\n"
   ]
  },
  {
   "cell_type": "code",
   "execution_count": 17,
   "metadata": {},
   "outputs": [
    {
     "name": "stdout",
     "output_type": "stream",
     "text": [
      "Train on 25000 samples, validate on 25000 samples\n",
      "WARNING:tensorflow:From /home/ec2-user/anaconda3/envs/amazonei_tensorflow_p36/lib/python3.6/site-packages/tensorflow/python/ops/math_ops.py:3066: to_int32 (from tensorflow.python.ops.math_ops) is deprecated and will be removed in a future version.\n",
      "Instructions for updating:\n",
      "Use tf.cast instead.\n"
     ]
    },
    {
     "name": "stderr",
     "output_type": "stream",
     "text": [
      "W0818 00:28:19.451155 139878793643840 deprecation.py:323] From /home/ec2-user/anaconda3/envs/amazonei_tensorflow_p36/lib/python3.6/site-packages/tensorflow/python/ops/math_ops.py:3066: to_int32 (from tensorflow.python.ops.math_ops) is deprecated and will be removed in a future version.\n",
      "Instructions for updating:\n",
      "Use tf.cast instead.\n",
      "/home/ec2-user/anaconda3/envs/amazonei_tensorflow_p36/lib/python3.6/site-packages/tensorflow/python/ops/gradients_impl.py:110: UserWarning: Converting sparse IndexedSlices to a dense Tensor of unknown shape. This may consume a large amount of memory.\n",
      "  \"Converting sparse IndexedSlices to a dense Tensor of unknown shape. \"\n"
     ]
    },
    {
     "name": "stdout",
     "output_type": "stream",
     "text": [
      "Epoch 1/10\n",
      "25000/25000 [==============================] - 4s 142us/sample - loss: 0.5011 - acc: 0.7373 - val_loss: 0.3480 - val_acc: 0.8500\n",
      "Epoch 2/10\n",
      "25000/25000 [==============================] - 3s 127us/sample - loss: 0.2452 - acc: 0.9053 - val_loss: 0.3694 - val_acc: 0.8379\n",
      "Epoch 3/10\n",
      "25000/25000 [==============================] - 3s 127us/sample - loss: 0.1018 - acc: 0.9724 - val_loss: 0.4555 - val_acc: 0.8247\n",
      "Epoch 4/10\n",
      "25000/25000 [==============================] - 3s 128us/sample - loss: 0.0251 - acc: 0.9968 - val_loss: 0.5343 - val_acc: 0.8228\n",
      "Epoch 5/10\n",
      "25000/25000 [==============================] - 3s 127us/sample - loss: 0.0058 - acc: 0.9996 - val_loss: 0.6021 - val_acc: 0.8230\n",
      "Epoch 6/10\n",
      "25000/25000 [==============================] - 3s 126us/sample - loss: 0.0019 - acc: 1.0000 - val_loss: 0.6531 - val_acc: 0.8237\n",
      "Epoch 7/10\n",
      "25000/25000 [==============================] - 3s 127us/sample - loss: 8.7971e-04 - acc: 1.0000 - val_loss: 0.6921 - val_acc: 0.8252\n",
      "Epoch 8/10\n",
      "25000/25000 [==============================] - 3s 128us/sample - loss: 4.7816e-04 - acc: 1.0000 - val_loss: 0.7322 - val_acc: 0.8252\n",
      "Epoch 9/10\n",
      "25000/25000 [==============================] - 3s 127us/sample - loss: 2.7941e-04 - acc: 1.0000 - val_loss: 0.7710 - val_acc: 0.8252\n",
      "Epoch 10/10\n",
      "25000/25000 [==============================] - 3s 127us/sample - loss: 1.6582e-04 - acc: 1.0000 - val_loss: 0.8080 - val_acc: 0.8244\n"
     ]
    },
    {
     "data": {
      "text/plain": [
       "<tensorflow.python.keras.callbacks.History at 0x7f3783732f60>"
      ]
     },
     "execution_count": 17,
     "metadata": {},
     "output_type": "execute_result"
    }
   ],
   "source": [
    "num_epochs = 10\n",
    "model.fit(padded, \n",
    "          training_labels_final, \n",
    "          epochs=num_epochs, \n",
    "          validation_data=(testing_padded, testing_labels_final))"
   ]
  },
  {
   "cell_type": "code",
   "execution_count": 15,
   "metadata": {},
   "outputs": [
    {
     "name": "stdout",
     "output_type": "stream",
     "text": [
      "_________________________________________________________________\n",
      "Layer (type)                 Output Shape              Param #   \n",
      "=================================================================\n",
      "embedding_1 (Embedding)      (None, 120, 16)           160000    \n",
      "_________________________________________________________________\n",
      "global_average_pooling1d (Gl (None, 16)                0         \n",
      "_________________________________________________________________\n",
      "dense_2 (Dense)              (None, 6)                 102       \n",
      "_________________________________________________________________\n",
      "dense_3 (Dense)              (None, 1)                 7         \n",
      "=================================================================\n",
      "Total params: 160,109\n",
      "Trainable params: 160,109\n",
      "Non-trainable params: 0\n",
      "_________________________________________________________________\n"
     ]
    }
   ],
   "source": [
    "model = tf.keras.Sequential([\n",
    "    tf.keras.layers.Embedding(vocab_size, embedding_dim, input_length=max_length),\n",
    "    tf.keras.layers.GlobalAveragePooling1D(),\n",
    "    tf.keras.layers.Dense(6, activation='relu'),\n",
    "    tf.keras.layers.Dense(1, activation='sigmoid')\n",
    "])\n",
    "model.compile(loss='binary_crossentropy',optimizer='adam',metrics=['accuracy'])\n",
    "model.summary()"
   ]
  },
  {
   "cell_type": "code",
   "execution_count": 18,
   "metadata": {},
   "outputs": [
    {
     "name": "stdout",
     "output_type": "stream",
     "text": [
      "Train on 25000 samples, validate on 25000 samples\n",
      "Epoch 1/10\n",
      "25000/25000 [==============================] - 3s 130us/sample - loss: 1.0158e-04 - acc: 1.0000 - val_loss: 0.8436 - val_acc: 0.8249\n",
      "Epoch 2/10\n",
      "25000/25000 [==============================] - 3s 127us/sample - loss: 6.2772e-05 - acc: 1.0000 - val_loss: 0.8790 - val_acc: 0.8247\n",
      "Epoch 3/10\n",
      "25000/25000 [==============================] - 3s 127us/sample - loss: 3.8978e-05 - acc: 1.0000 - val_loss: 0.9146 - val_acc: 0.8248\n",
      "Epoch 4/10\n",
      "25000/25000 [==============================] - 3s 128us/sample - loss: 2.4556e-05 - acc: 1.0000 - val_loss: 0.9488 - val_acc: 0.8241\n",
      "Epoch 5/10\n",
      "25000/25000 [==============================] - 3s 128us/sample - loss: 1.5444e-05 - acc: 1.0000 - val_loss: 0.9799 - val_acc: 0.8241\n",
      "Epoch 6/10\n",
      "25000/25000 [==============================] - 3s 126us/sample - loss: 9.8793e-06 - acc: 1.0000 - val_loss: 1.0110 - val_acc: 0.8246\n",
      "Epoch 7/10\n",
      "25000/25000 [==============================] - 3s 128us/sample - loss: 6.3381e-06 - acc: 1.0000 - val_loss: 1.0409 - val_acc: 0.8242\n",
      "Epoch 8/10\n",
      "25000/25000 [==============================] - 3s 127us/sample - loss: 4.0553e-06 - acc: 1.0000 - val_loss: 1.0707 - val_acc: 0.8242\n",
      "Epoch 9/10\n",
      "25000/25000 [==============================] - 3s 130us/sample - loss: 2.6114e-06 - acc: 1.0000 - val_loss: 1.0983 - val_acc: 0.8242\n",
      "Epoch 10/10\n",
      "25000/25000 [==============================] - 3s 128us/sample - loss: 1.7037e-06 - acc: 1.0000 - val_loss: 1.1256 - val_acc: 0.8244\n"
     ]
    },
    {
     "data": {
      "text/plain": [
       "<tensorflow.python.keras.callbacks.History at 0x7f37836a6cc0>"
      ]
     },
     "execution_count": 18,
     "metadata": {},
     "output_type": "execute_result"
    }
   ],
   "source": [
    "num_epochs = 10\n",
    "model.fit(padded, training_labels_final, epochs=num_epochs, validation_data=(testing_padded, testing_labels_final))"
   ]
  },
  {
   "cell_type": "code",
   "execution_count": 20,
   "metadata": {},
   "outputs": [
    {
     "name": "stdout",
     "output_type": "stream",
     "text": [
      "(10000, 16)\n"
     ]
    }
   ],
   "source": [
    "e = model.layers[0]\n",
    "weights = e.get_weights()[0]\n",
    "print(weights.shape)"
   ]
  },
  {
   "cell_type": "code",
   "execution_count": 24,
   "metadata": {
    "scrolled": true
   },
   "outputs": [
    {
     "data": {
      "text/plain": [
       "{'<OOV>': 1,\n",
       " 'the': 2,\n",
       " 'and': 3,\n",
       " 'a': 4,\n",
       " 'of': 5,\n",
       " 'to': 6,\n",
       " 'is': 7,\n",
       " 'br': 8,\n",
       " 'in': 9,\n",
       " 'it': 10,\n",
       " 'i': 11,\n",
       " 'this': 12,\n",
       " 'that': 13,\n",
       " 'was': 14,\n",
       " 'as': 15,\n",
       " 'for': 16,\n",
       " 'with': 17,\n",
       " 'movie': 18,\n",
       " 'but': 19,\n",
       " 'film': 20,\n",
       " \"'s\": 21,\n",
       " 'on': 22,\n",
       " 'you': 23,\n",
       " 'not': 24,\n",
       " 'are': 25,\n",
       " 'his': 26,\n",
       " 'he': 27,\n",
       " 'have': 28,\n",
       " 'be': 29,\n",
       " 'one': 30,\n",
       " 'all': 31,\n",
       " 'at': 32,\n",
       " 'by': 33,\n",
       " 'they': 34,\n",
       " 'an': 35,\n",
       " 'who': 36,\n",
       " 'so': 37,\n",
       " 'from': 38,\n",
       " 'like': 39,\n",
       " 'her': 40,\n",
       " \"'t\": 41,\n",
       " 'or': 42,\n",
       " 'just': 43,\n",
       " 'there': 44,\n",
       " 'about': 45,\n",
       " 'out': 46,\n",
       " \"'\": 47,\n",
       " 'has': 48,\n",
       " 'if': 49,\n",
       " 'some': 50,\n",
       " 'what': 51,\n",
       " 'good': 52,\n",
       " 'more': 53,\n",
       " 'very': 54,\n",
       " 'when': 55,\n",
       " 'she': 56,\n",
       " 'up': 57,\n",
       " 'can': 58,\n",
       " 'b': 59,\n",
       " 'time': 60,\n",
       " 'no': 61,\n",
       " 'even': 62,\n",
       " 'my': 63,\n",
       " 'would': 64,\n",
       " 'which': 65,\n",
       " 'story': 66,\n",
       " 'only': 67,\n",
       " 'really': 68,\n",
       " 'see': 69,\n",
       " 'their': 70,\n",
       " 'had': 71,\n",
       " 'were': 72,\n",
       " 'me': 73,\n",
       " 'well': 74,\n",
       " 'we': 75,\n",
       " 'than': 76,\n",
       " 'much': 77,\n",
       " 'been': 78,\n",
       " 'get': 79,\n",
       " 'bad': 80,\n",
       " 'will': 81,\n",
       " 'people': 82,\n",
       " 'do': 83,\n",
       " 'also': 84,\n",
       " 'other': 85,\n",
       " 'into': 86,\n",
       " 'because': 87,\n",
       " 'great': 88,\n",
       " 'first': 89,\n",
       " 'him': 90,\n",
       " 'how': 91,\n",
       " 'most': 92,\n",
       " 'made': 93,\n",
       " 'its': 94,\n",
       " 'then': 95,\n",
       " 'way': 96,\n",
       " 'make': 97,\n",
       " 'them': 98,\n",
       " 'could': 99,\n",
       " 'too': 100,\n",
       " 'movies': 101,\n",
       " 'any': 102,\n",
       " \"it's\": 103,\n",
       " 'after': 104,\n",
       " 'think': 105,\n",
       " 'characters': 106,\n",
       " 'watch': 107,\n",
       " 'two': 108,\n",
       " 'films': 109,\n",
       " 'character': 110,\n",
       " 'seen': 111,\n",
       " 'many': 112,\n",
       " 'life': 113,\n",
       " 'being': 114,\n",
       " 'plot': 115,\n",
       " 'acting': 116,\n",
       " 'never': 117,\n",
       " 'little': 118,\n",
       " 'love': 119,\n",
       " 'best': 120,\n",
       " 'where': 121,\n",
       " 'over': 122,\n",
       " 'did': 123,\n",
       " 'show': 124,\n",
       " 'know': 125,\n",
       " 'off': 126,\n",
       " 'ever': 127,\n",
       " 'does': 128,\n",
       " 'man': 129,\n",
       " 'better': 130,\n",
       " 'your': 131,\n",
       " 'here': 132,\n",
       " 'end': 133,\n",
       " 'still': 134,\n",
       " 'these': 135,\n",
       " 'say': 136,\n",
       " 'scene': 137,\n",
       " 'why': 138,\n",
       " 'while': 139,\n",
       " 'scenes': 140,\n",
       " 'go': 141,\n",
       " 'such': 142,\n",
       " 'something': 143,\n",
       " 'should': 144,\n",
       " 'through': 145,\n",
       " 'back': 146,\n",
       " 'don': 147,\n",
       " 'real': 148,\n",
       " 'those': 149,\n",
       " 'now': 150,\n",
       " 'watching': 151,\n",
       " 'though': 152,\n",
       " 'thing': 153,\n",
       " 'old': 154,\n",
       " 'years': 155,\n",
       " 'actors': 156,\n",
       " 'work': 157,\n",
       " 'director': 158,\n",
       " 'new': 159,\n",
       " 'another': 160,\n",
       " 'before': 161,\n",
       " 'funny': 162,\n",
       " 'nothing': 163,\n",
       " 'actually': 164,\n",
       " 'makes': 165,\n",
       " 'look': 166,\n",
       " 'find': 167,\n",
       " 'going': 168,\n",
       " 'few': 169,\n",
       " 'same': 170,\n",
       " 'part': 171,\n",
       " 'again': 172,\n",
       " 'lot': 173,\n",
       " \"don't\": 174,\n",
       " 'every': 175,\n",
       " '10': 176,\n",
       " 'cast': 177,\n",
       " 'us': 178,\n",
       " 'world': 179,\n",
       " 'quite': 180,\n",
       " 'down': 181,\n",
       " 'want': 182,\n",
       " 'things': 183,\n",
       " 'pretty': 184,\n",
       " 'young': 185,\n",
       " 'seems': 186,\n",
       " 'around': 187,\n",
       " 'got': 188,\n",
       " 'horror': 189,\n",
       " 'however': 190,\n",
       " 'fact': 191,\n",
       " 'take': 192,\n",
       " 'enough': 193,\n",
       " 'big': 194,\n",
       " 'long': 195,\n",
       " 'thought': 196,\n",
       " 'both': 197,\n",
       " 'series': 198,\n",
       " 'between': 199,\n",
       " 'may': 200,\n",
       " 'give': 201,\n",
       " 'original': 202,\n",
       " 'own': 203,\n",
       " 'action': 204,\n",
       " 'right': 205,\n",
       " 'without': 206,\n",
       " 'times': 207,\n",
       " 'always': 208,\n",
       " 'comedy': 209,\n",
       " 'point': 210,\n",
       " 'must': 211,\n",
       " 'gets': 212,\n",
       " 'role': 213,\n",
       " 'come': 214,\n",
       " 'family': 215,\n",
       " 'saw': 216,\n",
       " 'almost': 217,\n",
       " 'interesting': 218,\n",
       " 'least': 219,\n",
       " 'done': 220,\n",
       " 'whole': 221,\n",
       " 'bit': 222,\n",
       " 'music': 223,\n",
       " 'script': 224,\n",
       " 'guy': 225,\n",
       " 'far': 226,\n",
       " 'xc2': 227,\n",
       " 'anything': 228,\n",
       " 'making': 229,\n",
       " 'minutes': 230,\n",
       " 'feel': 231,\n",
       " 'last': 232,\n",
       " 'might': 233,\n",
       " 'performance': 234,\n",
       " 'since': 235,\n",
       " '2': 236,\n",
       " 'probably': 237,\n",
       " 'girl': 238,\n",
       " 'kind': 239,\n",
       " 'am': 240,\n",
       " 'away': 241,\n",
       " 'tv': 242,\n",
       " 'yet': 243,\n",
       " 'woman': 244,\n",
       " 'rather': 245,\n",
       " 'day': 246,\n",
       " \"'ve\": 247,\n",
       " 'worst': 248,\n",
       " 'fun': 249,\n",
       " 'sure': 250,\n",
       " 'hard': 251,\n",
       " \"'m\": 252,\n",
       " 'doesn': 253,\n",
       " 'anyone': 254,\n",
       " 'played': 255,\n",
       " \"b'i\": 256,\n",
       " 'each': 257,\n",
       " 'found': 258,\n",
       " 'xc3': 259,\n",
       " 'especially': 260,\n",
       " 'course': 261,\n",
       " 'our': 262,\n",
       " 'believe': 263,\n",
       " 'having': 264,\n",
       " 'comes': 265,\n",
       " 'looking': 266,\n",
       " 'screen': 267,\n",
       " 'although': 268,\n",
       " 'trying': 269,\n",
       " 'goes': 270,\n",
       " 'set': 271,\n",
       " 'looks': 272,\n",
       " 'place': 273,\n",
       " 'book': 274,\n",
       " 'different': 275,\n",
       " 'put': 276,\n",
       " 'money': 277,\n",
       " 'ending': 278,\n",
       " 'actor': 279,\n",
       " 'maybe': 280,\n",
       " 'year': 281,\n",
       " 'sense': 282,\n",
       " 'reason': 283,\n",
       " 'true': 284,\n",
       " 'everything': 285,\n",
       " 'dvd': 286,\n",
       " 'shows': 287,\n",
       " 'once': 288,\n",
       " 'didn': 289,\n",
       " 'someone': 290,\n",
       " 'three': 291,\n",
       " 'worth': 292,\n",
       " 'job': 293,\n",
       " \"'re\": 294,\n",
       " 'main': 295,\n",
       " 'together': 296,\n",
       " 'play': 297,\n",
       " 'watched': 298,\n",
       " 'plays': 299,\n",
       " 'american': 300,\n",
       " '1': 301,\n",
       " 'effects': 302,\n",
       " 'said': 303,\n",
       " 'later': 304,\n",
       " 'takes': 305,\n",
       " 'instead': 306,\n",
       " 'audience': 307,\n",
       " 'seem': 308,\n",
       " 'john': 309,\n",
       " 'beautiful': 310,\n",
       " 'everyone': 311,\n",
       " 'himself': 312,\n",
       " 'version': 313,\n",
       " 'house': 314,\n",
       " 'high': 315,\n",
       " 'night': 316,\n",
       " 'during': 317,\n",
       " 'left': 318,\n",
       " \"i'm\": 319,\n",
       " 'special': 320,\n",
       " 'wife': 321,\n",
       " 'seeing': 322,\n",
       " 'half': 323,\n",
       " 'let': 324,\n",
       " 'star': 325,\n",
       " 'father': 326,\n",
       " 'excellent': 327,\n",
       " 'shot': 328,\n",
       " \"didn't\": 329,\n",
       " 'war': 330,\n",
       " 'idea': 331,\n",
       " 'black': 332,\n",
       " 'nice': 333,\n",
       " 'less': 334,\n",
       " 'mind': 335,\n",
       " 'else': 336,\n",
       " 'read': 337,\n",
       " \"doesn't\": 338,\n",
       " 'second': 339,\n",
       " 'simply': 340,\n",
       " 'fan': 341,\n",
       " 'help': 342,\n",
       " 'death': 343,\n",
       " 'poor': 344,\n",
       " 'completely': 345,\n",
       " '3': 346,\n",
       " 'used': 347,\n",
       " 'men': 348,\n",
       " 'home': 349,\n",
       " 'either': 350,\n",
       " 'short': 351,\n",
       " 'hollywood': 352,\n",
       " 'line': 353,\n",
       " 'dead': 354,\n",
       " 'given': 355,\n",
       " 'top': 356,\n",
       " 'kids': 357,\n",
       " 'budget': 358,\n",
       " 'try': 359,\n",
       " \"b'this\": 360,\n",
       " 'performances': 361,\n",
       " 'wrong': 362,\n",
       " 'classic': 363,\n",
       " 'enjoy': 364,\n",
       " 'boring': 365,\n",
       " 'need': 366,\n",
       " 'rest': 367,\n",
       " 'use': 368,\n",
       " 'low': 369,\n",
       " 'women': 370,\n",
       " 'production': 371,\n",
       " 'isn': 372,\n",
       " 'friends': 373,\n",
       " 'camera': 374,\n",
       " 'until': 375,\n",
       " 'full': 376,\n",
       " 'along': 377,\n",
       " 'truly': 378,\n",
       " 'video': 379,\n",
       " 'awful': 380,\n",
       " 'next': 381,\n",
       " 'tell': 382,\n",
       " 'couple': 383,\n",
       " 'stupid': 384,\n",
       " 'start': 385,\n",
       " 'remember': 386,\n",
       " 'mean': 387,\n",
       " 'sex': 388,\n",
       " 'stars': 389,\n",
       " 'perhaps': 390,\n",
       " 'came': 391,\n",
       " 'recommend': 392,\n",
       " 'moments': 393,\n",
       " 'episode': 394,\n",
       " 'wonderful': 395,\n",
       " 'school': 396,\n",
       " 'understand': 397,\n",
       " 'small': 398,\n",
       " 'face': 399,\n",
       " 'playing': 400,\n",
       " 'terrible': 401,\n",
       " \"i've\": 402,\n",
       " 'getting': 403,\n",
       " 'written': 404,\n",
       " \"'ll\": 405,\n",
       " 'doing': 406,\n",
       " 'early': 407,\n",
       " 'often': 408,\n",
       " 'name': 409,\n",
       " 'keep': 410,\n",
       " 'style': 411,\n",
       " 'perfect': 412,\n",
       " 'human': 413,\n",
       " 'others': 414,\n",
       " 'gives': 415,\n",
       " 'definitely': 416,\n",
       " 'person': 417,\n",
       " 'itself': 418,\n",
       " 'lines': 419,\n",
       " 'live': 420,\n",
       " 'become': 421,\n",
       " \"can't\": 422,\n",
       " 'dialogue': 423,\n",
       " 'head': 424,\n",
       " 'lost': 425,\n",
       " 'piece': 426,\n",
       " 'case': 427,\n",
       " 'felt': 428,\n",
       " 'finally': 429,\n",
       " 'boy': 430,\n",
       " 'supposed': 431,\n",
       " 'liked': 432,\n",
       " 'title': 433,\n",
       " 'yes': 434,\n",
       " 'white': 435,\n",
       " 'picture': 436,\n",
       " 'cinema': 437,\n",
       " 'against': 438,\n",
       " 'absolutely': 439,\n",
       " 'mother': 440,\n",
       " 'sort': 441,\n",
       " 'worse': 442,\n",
       " 'entire': 443,\n",
       " 'went': 444,\n",
       " 'certainly': 445,\n",
       " 'waste': 446,\n",
       " 'problem': 447,\n",
       " 'hope': 448,\n",
       " 'entertaining': 449,\n",
       " 'evil': 450,\n",
       " 'mr': 451,\n",
       " 'overall': 452,\n",
       " 'called': 453,\n",
       " 'children': 454,\n",
       " 'loved': 455,\n",
       " 'based': 456,\n",
       " 'killer': 457,\n",
       " 'several': 458,\n",
       " 'friend': 459,\n",
       " 'fans': 460,\n",
       " \"that's\": 461,\n",
       " 'drama': 462,\n",
       " \"isn't\": 463,\n",
       " 'beginning': 464,\n",
       " 'lives': 465,\n",
       " 'direction': 466,\n",
       " '5': 467,\n",
       " 'care': 468,\n",
       " 'becomes': 469,\n",
       " 'already': 470,\n",
       " \"'d\": 471,\n",
       " 'laugh': 472,\n",
       " 'example': 473,\n",
       " 'oh': 474,\n",
       " 'dark': 475,\n",
       " 'under': 476,\n",
       " 'seemed': 477,\n",
       " 'throughout': 478,\n",
       " '4': 479,\n",
       " 'turn': 480,\n",
       " 'wanted': 481,\n",
       " 'unfortunately': 482,\n",
       " 'x96': 483,\n",
       " 'despite': 484,\n",
       " 'son': 485,\n",
       " 'history': 486,\n",
       " 'fine': 487,\n",
       " 'final': 488,\n",
       " 'sound': 489,\n",
       " 'amazing': 490,\n",
       " 'heart': 491,\n",
       " 'guess': 492,\n",
       " 'lead': 493,\n",
       " 'totally': 494,\n",
       " 'humor': 495,\n",
       " 'michael': 496,\n",
       " 'writing': 497,\n",
       " 'quality': 498,\n",
       " \"there's\": 499,\n",
       " 'guys': 500,\n",
       " 'close': 501,\n",
       " 'wants': 502,\n",
       " 'child': 503,\n",
       " 'works': 504,\n",
       " 'behind': 505,\n",
       " 'tries': 506,\n",
       " 'side': 507,\n",
       " 'art': 508,\n",
       " 'game': 509,\n",
       " 'past': 510,\n",
       " 'days': 511,\n",
       " 'town': 512,\n",
       " 'able': 513,\n",
       " 'hand': 514,\n",
       " 'flick': 515,\n",
       " 'turns': 516,\n",
       " 'genre': 517,\n",
       " 'enjoyed': 518,\n",
       " 'act': 519,\n",
       " 'viewer': 520,\n",
       " 'favorite': 521,\n",
       " 'kill': 522,\n",
       " 'car': 523,\n",
       " 'soon': 524,\n",
       " 'starts': 525,\n",
       " 'gave': 526,\n",
       " 'etc': 527,\n",
       " 'run': 528,\n",
       " 'sometimes': 529,\n",
       " 'actress': 530,\n",
       " 'eyes': 531,\n",
       " 'late': 532,\n",
       " 'directed': 533,\n",
       " 'horrible': 534,\n",
       " 'parts': 535,\n",
       " 'brilliant': 536,\n",
       " 'wasn': 537,\n",
       " 'girls': 538,\n",
       " 'hour': 539,\n",
       " 'themselves': 540,\n",
       " 'self': 541,\n",
       " 'thinking': 542,\n",
       " 'stories': 543,\n",
       " 'expect': 544,\n",
       " 'city': 545,\n",
       " 'stuff': 546,\n",
       " 'kid': 547,\n",
       " 'won': 548,\n",
       " 'god': 549,\n",
       " 'obviously': 550,\n",
       " 'blood': 551,\n",
       " 'decent': 552,\n",
       " 'voice': 553,\n",
       " 'highly': 554,\n",
       " 'myself': 555,\n",
       " 'feeling': 556,\n",
       " 'fight': 557,\n",
       " 'today': 558,\n",
       " 'writer': 559,\n",
       " \"wasn't\": 560,\n",
       " 'matter': 561,\n",
       " 'except': 562,\n",
       " 'slow': 563,\n",
       " 'type': 564,\n",
       " \"he's\": 565,\n",
       " 'anyway': 566,\n",
       " 'roles': 567,\n",
       " 'age': 568,\n",
       " 'heard': 569,\n",
       " 'killed': 570,\n",
       " 'says': 571,\n",
       " 'moment': 572,\n",
       " 'daughter': 573,\n",
       " 'took': 574,\n",
       " 'strong': 575,\n",
       " 'leave': 576,\n",
       " 'cannot': 577,\n",
       " 'violence': 578,\n",
       " 's': 579,\n",
       " 'hit': 580,\n",
       " 'police': 581,\n",
       " 'stop': 582,\n",
       " 'happens': 583,\n",
       " 'particularly': 584,\n",
       " 'known': 585,\n",
       " 'involved': 586,\n",
       " 'happened': 587,\n",
       " 'brother': 588,\n",
       " 'extremely': 589,\n",
       " 'obvious': 590,\n",
       " 'chance': 591,\n",
       " 'told': 592,\n",
       " 'living': 593,\n",
       " 'experience': 594,\n",
       " 'lack': 595,\n",
       " 'coming': 596,\n",
       " 'alone': 597,\n",
       " 'james': 598,\n",
       " 'including': 599,\n",
       " 'murder': 600,\n",
       " 'attempt': 601,\n",
       " 'happen': 602,\n",
       " 'please': 603,\n",
       " 'wonder': 604,\n",
       " 'gore': 605,\n",
       " 'crap': 606,\n",
       " 'ago': 607,\n",
       " 'group': 608,\n",
       " 'interest': 609,\n",
       " 'complete': 610,\n",
       " 'none': 611,\n",
       " 'score': 612,\n",
       " 'cut': 613,\n",
       " 'simple': 614,\n",
       " 'save': 615,\n",
       " 'hell': 616,\n",
       " 'hero': 617,\n",
       " 'looked': 618,\n",
       " 'number': 619,\n",
       " 'song': 620,\n",
       " 'career': 621,\n",
       " 'husband': 622,\n",
       " 'possible': 623,\n",
       " 'annoying': 624,\n",
       " 'sad': 625,\n",
       " 'shown': 626,\n",
       " 'exactly': 627,\n",
       " 'seriously': 628,\n",
       " 'running': 629,\n",
       " 'musical': 630,\n",
       " 'serious': 631,\n",
       " 'yourself': 632,\n",
       " 'taken': 633,\n",
       " 'whose': 634,\n",
       " 'david': 635,\n",
       " 'cinematography': 636,\n",
       " 'released': 637,\n",
       " 'ends': 638,\n",
       " 'scary': 639,\n",
       " 'reality': 640,\n",
       " 'hours': 641,\n",
       " 'english': 642,\n",
       " 'usually': 643,\n",
       " 'light': 644,\n",
       " 'opening': 645,\n",
       " 'jokes': 646,\n",
       " 'across': 647,\n",
       " 'body': 648,\n",
       " 'hilarious': 649,\n",
       " 'somewhat': 650,\n",
       " 'relationship': 651,\n",
       " 'usual': 652,\n",
       " 'started': 653,\n",
       " 'cool': 654,\n",
       " 'view': 655,\n",
       " 'level': 656,\n",
       " 'ridiculous': 657,\n",
       " 'change': 658,\n",
       " 'opinion': 659,\n",
       " 'happy': 660,\n",
       " 'wish': 661,\n",
       " 'middle': 662,\n",
       " 'king': 663,\n",
       " 'novel': 664,\n",
       " 'taking': 665,\n",
       " 'ones': 666,\n",
       " 'talking': 667,\n",
       " 'ok': 668,\n",
       " 'finds': 669,\n",
       " 'order': 670,\n",
       " 'shots': 671,\n",
       " 'documentary': 672,\n",
       " 'saying': 673,\n",
       " 'huge': 674,\n",
       " 'female': 675,\n",
       " 'room': 676,\n",
       " 'mostly': 677,\n",
       " 'power': 678,\n",
       " 'episodes': 679,\n",
       " 'robert': 680,\n",
       " 'important': 681,\n",
       " 'talent': 682,\n",
       " 'rating': 683,\n",
       " 'word': 684,\n",
       " 'turned': 685,\n",
       " 'strange': 686,\n",
       " 'major': 687,\n",
       " 'five': 688,\n",
       " 'modern': 689,\n",
       " 'call': 690,\n",
       " 'single': 691,\n",
       " 'disappointed': 692,\n",
       " 'country': 693,\n",
       " 'apparently': 694,\n",
       " 'events': 695,\n",
       " 'due': 696,\n",
       " 'songs': 697,\n",
       " 'attention': 698,\n",
       " 'earth': 699,\n",
       " '7': 700,\n",
       " 'four': 701,\n",
       " 'television': 702,\n",
       " 'jack': 703,\n",
       " 'knows': 704,\n",
       " 'comic': 705,\n",
       " 'non': 706,\n",
       " 'knew': 707,\n",
       " 'clearly': 708,\n",
       " 'basically': 709,\n",
       " 'supporting': 710,\n",
       " 'british': 711,\n",
       " 'future': 712,\n",
       " 'fast': 713,\n",
       " '8': 714,\n",
       " 'class': 715,\n",
       " 'cheap': 716,\n",
       " 'thriller': 717,\n",
       " 'problems': 718,\n",
       " 'silly': 719,\n",
       " 'easily': 720,\n",
       " 'tells': 721,\n",
       " 'miss': 722,\n",
       " 'local': 723,\n",
       " 'paul': 724,\n",
       " 'words': 725,\n",
       " 'sequence': 726,\n",
       " 'entertainment': 727,\n",
       " 'bring': 728,\n",
       " 'beyond': 729,\n",
       " 'rock': 730,\n",
       " 'oscar': 731,\n",
       " 'upon': 732,\n",
       " 'straight': 733,\n",
       " 'whether': 734,\n",
       " 'moving': 735,\n",
       " 'sets': 736,\n",
       " 'predictable': 737,\n",
       " 'similar': 738,\n",
       " 'romantic': 739,\n",
       " 'review': 740,\n",
       " 'falls': 741,\n",
       " 'mystery': 742,\n",
       " 'george': 743,\n",
       " 'needs': 744,\n",
       " 'appears': 745,\n",
       " 'enjoyable': 746,\n",
       " 'giving': 747,\n",
       " 'eye': 748,\n",
       " 'clich': 749,\n",
       " 'talk': 750,\n",
       " 'lady': 751,\n",
       " 'within': 752,\n",
       " 'richard': 753,\n",
       " \"b'\": 754,\n",
       " 'animation': 755,\n",
       " 'theater': 756,\n",
       " 'message': 757,\n",
       " 'ten': 758,\n",
       " 'near': 759,\n",
       " 'couldn': 760,\n",
       " 'above': 761,\n",
       " 'theme': 762,\n",
       " 'sequel': 763,\n",
       " 'nearly': 764,\n",
       " 'team': 765,\n",
       " 'points': 766,\n",
       " 'stand': 767,\n",
       " 'dull': 768,\n",
       " \"you're\": 769,\n",
       " 'mention': 770,\n",
       " 'bunch': 771,\n",
       " 'herself': 772,\n",
       " 'feels': 773,\n",
       " 'add': 774,\n",
       " 'release': 775,\n",
       " \"b'the\": 776,\n",
       " 'storyline': 777,\n",
       " 'ways': 778,\n",
       " 'sister': 779,\n",
       " 'surprised': 780,\n",
       " 'red': 781,\n",
       " 'named': 782,\n",
       " 'using': 783,\n",
       " 'york': 784,\n",
       " 'fantastic': 785,\n",
       " 'easy': 786,\n",
       " 'lots': 787,\n",
       " 'begins': 788,\n",
       " 'actual': 789,\n",
       " 't': 790,\n",
       " 'working': 791,\n",
       " 'effort': 792,\n",
       " 'lee': 793,\n",
       " 'tale': 794,\n",
       " 'minute': 795,\n",
       " 'die': 796,\n",
       " 'hate': 797,\n",
       " 'clear': 798,\n",
       " 'french': 799,\n",
       " 'stay': 800,\n",
       " 'elements': 801,\n",
       " 'feature': 802,\n",
       " 'among': 803,\n",
       " 'viewers': 804,\n",
       " '9': 805,\n",
       " 'follow': 806,\n",
       " 're': 807,\n",
       " 'comments': 808,\n",
       " 'editing': 809,\n",
       " 'avoid': 810,\n",
       " 'showing': 811,\n",
       " 'tried': 812,\n",
       " 'typical': 813,\n",
       " 'famous': 814,\n",
       " 'fall': 815,\n",
       " 'season': 816,\n",
       " 'tom': 817,\n",
       " 'dialog': 818,\n",
       " 'check': 819,\n",
       " 'period': 820,\n",
       " 'form': 821,\n",
       " 'soundtrack': 822,\n",
       " 'certain': 823,\n",
       " 'filmed': 824,\n",
       " 'sorry': 825,\n",
       " 'means': 826,\n",
       " 'buy': 827,\n",
       " 'material': 828,\n",
       " 'realistic': 829,\n",
       " 'weak': 830,\n",
       " 'peter': 831,\n",
       " 'crime': 832,\n",
       " 'figure': 833,\n",
       " 'doubt': 834,\n",
       " 'somehow': 835,\n",
       " 'general': 836,\n",
       " 'gone': 837,\n",
       " 'kept': 838,\n",
       " 'viewing': 839,\n",
       " 'leads': 840,\n",
       " 'parents': 841,\n",
       " 'greatest': 842,\n",
       " 'space': 843,\n",
       " 'dance': 844,\n",
       " 'suspense': 845,\n",
       " 'lame': 846,\n",
       " 'third': 847,\n",
       " 'brought': 848,\n",
       " 'atmosphere': 849,\n",
       " 'hear': 850,\n",
       " 'imagine': 851,\n",
       " 'particular': 852,\n",
       " 'sequences': 853,\n",
       " 'move': 854,\n",
       " 'whatever': 855,\n",
       " 'indeed': 856,\n",
       " 'eventually': 857,\n",
       " 'learn': 858,\n",
       " 'rent': 859,\n",
       " 'de': 860,\n",
       " 'reviews': 861,\n",
       " 'zombie': 862,\n",
       " 'deal': 863,\n",
       " 'wait': 864,\n",
       " 'average': 865,\n",
       " 'japanese': 866,\n",
       " 'sexual': 867,\n",
       " 'note': 868,\n",
       " 'forget': 869,\n",
       " 'premise': 870,\n",
       " 'surprise': 871,\n",
       " 'poorly': 872,\n",
       " 'believable': 873,\n",
       " 'stage': 874,\n",
       " 'sit': 875,\n",
       " 'disney': 876,\n",
       " 'nature': 877,\n",
       " 'possibly': 878,\n",
       " 'decided': 879,\n",
       " 'expected': 880,\n",
       " 'subject': 881,\n",
       " 'became': 882,\n",
       " 'america': 883,\n",
       " 'screenplay': 884,\n",
       " 'truth': 885,\n",
       " 'free': 886,\n",
       " 'killing': 887,\n",
       " 'difficult': 888,\n",
       " 'xa9': 889,\n",
       " 'romance': 890,\n",
       " 'imdb': 891,\n",
       " '20': 892,\n",
       " 'nor': 893,\n",
       " 'dr': 894,\n",
       " 'question': 895,\n",
       " 'street': 896,\n",
       " 'leaves': 897,\n",
       " 'needed': 898,\n",
       " 'baby': 899,\n",
       " \"couldn't\": 900,\n",
       " 'reading': 901,\n",
       " 'begin': 902,\n",
       " 'meets': 903,\n",
       " 'hot': 904,\n",
       " 'dog': 905,\n",
       " 'directors': 906,\n",
       " 'credits': 907,\n",
       " 'unless': 908,\n",
       " 'joe': 909,\n",
       " 'otherwise': 910,\n",
       " 'write': 911,\n",
       " 'superb': 912,\n",
       " 'society': 913,\n",
       " 'shame': 914,\n",
       " 'situation': 915,\n",
       " 'okay': 916,\n",
       " 'dramatic': 917,\n",
       " 'memorable': 918,\n",
       " 'weird': 919,\n",
       " 'open': 920,\n",
       " 'badly': 921,\n",
       " 'earlier': 922,\n",
       " 'meet': 923,\n",
       " 'male': 924,\n",
       " 'acted': 925,\n",
       " 'forced': 926,\n",
       " 'emotional': 927,\n",
       " 'sci': 928,\n",
       " 'fi': 929,\n",
       " 'writers': 930,\n",
       " 'laughs': 931,\n",
       " 'dream': 932,\n",
       " 'older': 933,\n",
       " 'realize': 934,\n",
       " 'forward': 935,\n",
       " 'footage': 936,\n",
       " 'interested': 937,\n",
       " 'comment': 938,\n",
       " 'crazy': 939,\n",
       " 'beauty': 940,\n",
       " 'fantasy': 941,\n",
       " 'whom': 942,\n",
       " 'sounds': 943,\n",
       " 'plus': 944,\n",
       " 'deep': 945,\n",
       " 'monster': 946,\n",
       " 'directing': 947,\n",
       " 'ask': 948,\n",
       " 'keeps': 949,\n",
       " 'features': 950,\n",
       " 'development': 951,\n",
       " 'mess': 952,\n",
       " 'air': 953,\n",
       " 'quickly': 954,\n",
       " 'mark': 955,\n",
       " 'perfectly': 956,\n",
       " 'towards': 957,\n",
       " 'box': 958,\n",
       " 'd': 959,\n",
       " 'creepy': 960,\n",
       " 'worked': 961,\n",
       " 'setting': 962,\n",
       " 'result': 963,\n",
       " 'unique': 964,\n",
       " 'cheesy': 965,\n",
       " 'plenty': 966,\n",
       " 'brings': 967,\n",
       " 'e': 968,\n",
       " 'hands': 969,\n",
       " 'total': 970,\n",
       " 'effect': 971,\n",
       " 'previous': 972,\n",
       " 'girlfriend': 973,\n",
       " 'jane': 974,\n",
       " 'fire': 975,\n",
       " 'personal': 976,\n",
       " 'bill': 977,\n",
       " 'incredibly': 978,\n",
       " 'rate': 979,\n",
       " 'business': 980,\n",
       " 'leading': 981,\n",
       " 'joke': 982,\n",
       " 'casting': 983,\n",
       " 'admit': 984,\n",
       " 'background': 985,\n",
       " 'appear': 986,\n",
       " 'powerful': 987,\n",
       " 'apart': 988,\n",
       " 'present': 989,\n",
       " 'telling': 990,\n",
       " 'christmas': 991,\n",
       " 'meant': 992,\n",
       " 'potential': 993,\n",
       " 'battle': 994,\n",
       " 'hardly': 995,\n",
       " 'break': 996,\n",
       " 'create': 997,\n",
       " 'era': 998,\n",
       " 'return': 999,\n",
       " 'boys': 1000,\n",
       " ...}"
      ]
     },
     "execution_count": 24,
     "metadata": {},
     "output_type": "execute_result"
    }
   ],
   "source": [
    "word_index"
   ]
  },
  {
   "cell_type": "markdown",
   "metadata": {},
   "source": [
    "reverse the word index"
   ]
  },
  {
   "cell_type": "code",
   "execution_count": 29,
   "metadata": {},
   "outputs": [
    {
     "data": {
      "text/plain": [
       "{1: '<OOV>',\n",
       " 2: 'the',\n",
       " 3: 'and',\n",
       " 4: 'a',\n",
       " 5: 'of',\n",
       " 6: 'to',\n",
       " 7: 'is',\n",
       " 8: 'br',\n",
       " 9: 'in',\n",
       " 10: 'it',\n",
       " 11: 'i',\n",
       " 12: 'this',\n",
       " 13: 'that',\n",
       " 14: 'was',\n",
       " 15: 'as',\n",
       " 16: 'for',\n",
       " 17: 'with',\n",
       " 18: 'movie',\n",
       " 19: 'but',\n",
       " 20: 'film',\n",
       " 21: \"'s\",\n",
       " 22: 'on',\n",
       " 23: 'you',\n",
       " 24: 'not',\n",
       " 25: 'are',\n",
       " 26: 'his',\n",
       " 27: 'he',\n",
       " 28: 'have',\n",
       " 29: 'be',\n",
       " 30: 'one',\n",
       " 31: 'all',\n",
       " 32: 'at',\n",
       " 33: 'by',\n",
       " 34: 'they',\n",
       " 35: 'an',\n",
       " 36: 'who',\n",
       " 37: 'so',\n",
       " 38: 'from',\n",
       " 39: 'like',\n",
       " 40: 'her',\n",
       " 41: \"'t\",\n",
       " 42: 'or',\n",
       " 43: 'just',\n",
       " 44: 'there',\n",
       " 45: 'about',\n",
       " 46: 'out',\n",
       " 47: \"'\",\n",
       " 48: 'has',\n",
       " 49: 'if',\n",
       " 50: 'some',\n",
       " 51: 'what',\n",
       " 52: 'good',\n",
       " 53: 'more',\n",
       " 54: 'very',\n",
       " 55: 'when',\n",
       " 56: 'she',\n",
       " 57: 'up',\n",
       " 58: 'can',\n",
       " 59: 'b',\n",
       " 60: 'time',\n",
       " 61: 'no',\n",
       " 62: 'even',\n",
       " 63: 'my',\n",
       " 64: 'would',\n",
       " 65: 'which',\n",
       " 66: 'story',\n",
       " 67: 'only',\n",
       " 68: 'really',\n",
       " 69: 'see',\n",
       " 70: 'their',\n",
       " 71: 'had',\n",
       " 72: 'were',\n",
       " 73: 'me',\n",
       " 74: 'well',\n",
       " 75: 'we',\n",
       " 76: 'than',\n",
       " 77: 'much',\n",
       " 78: 'been',\n",
       " 79: 'get',\n",
       " 80: 'bad',\n",
       " 81: 'will',\n",
       " 82: 'people',\n",
       " 83: 'do',\n",
       " 84: 'also',\n",
       " 85: 'other',\n",
       " 86: 'into',\n",
       " 87: 'because',\n",
       " 88: 'great',\n",
       " 89: 'first',\n",
       " 90: 'him',\n",
       " 91: 'how',\n",
       " 92: 'most',\n",
       " 93: 'made',\n",
       " 94: 'its',\n",
       " 95: 'then',\n",
       " 96: 'way',\n",
       " 97: 'make',\n",
       " 98: 'them',\n",
       " 99: 'could',\n",
       " 100: 'too',\n",
       " 101: 'movies',\n",
       " 102: 'any',\n",
       " 103: \"it's\",\n",
       " 104: 'after',\n",
       " 105: 'think',\n",
       " 106: 'characters',\n",
       " 107: 'watch',\n",
       " 108: 'two',\n",
       " 109: 'films',\n",
       " 110: 'character',\n",
       " 111: 'seen',\n",
       " 112: 'many',\n",
       " 113: 'life',\n",
       " 114: 'being',\n",
       " 115: 'plot',\n",
       " 116: 'acting',\n",
       " 117: 'never',\n",
       " 118: 'little',\n",
       " 119: 'love',\n",
       " 120: 'best',\n",
       " 121: 'where',\n",
       " 122: 'over',\n",
       " 123: 'did',\n",
       " 124: 'show',\n",
       " 125: 'know',\n",
       " 126: 'off',\n",
       " 127: 'ever',\n",
       " 128: 'does',\n",
       " 129: 'man',\n",
       " 130: 'better',\n",
       " 131: 'your',\n",
       " 132: 'here',\n",
       " 133: 'end',\n",
       " 134: 'still',\n",
       " 135: 'these',\n",
       " 136: 'say',\n",
       " 137: 'scene',\n",
       " 138: 'why',\n",
       " 139: 'while',\n",
       " 140: 'scenes',\n",
       " 141: 'go',\n",
       " 142: 'such',\n",
       " 143: 'something',\n",
       " 144: 'should',\n",
       " 145: 'through',\n",
       " 146: 'back',\n",
       " 147: 'don',\n",
       " 148: 'real',\n",
       " 149: 'those',\n",
       " 150: 'now',\n",
       " 151: 'watching',\n",
       " 152: 'though',\n",
       " 153: 'thing',\n",
       " 154: 'old',\n",
       " 155: 'years',\n",
       " 156: 'actors',\n",
       " 157: 'work',\n",
       " 158: 'director',\n",
       " 159: 'new',\n",
       " 160: 'another',\n",
       " 161: 'before',\n",
       " 162: 'funny',\n",
       " 163: 'nothing',\n",
       " 164: 'actually',\n",
       " 165: 'makes',\n",
       " 166: 'look',\n",
       " 167: 'find',\n",
       " 168: 'going',\n",
       " 169: 'few',\n",
       " 170: 'same',\n",
       " 171: 'part',\n",
       " 172: 'again',\n",
       " 173: 'lot',\n",
       " 174: \"don't\",\n",
       " 175: 'every',\n",
       " 176: '10',\n",
       " 177: 'cast',\n",
       " 178: 'us',\n",
       " 179: 'world',\n",
       " 180: 'quite',\n",
       " 181: 'down',\n",
       " 182: 'want',\n",
       " 183: 'things',\n",
       " 184: 'pretty',\n",
       " 185: 'young',\n",
       " 186: 'seems',\n",
       " 187: 'around',\n",
       " 188: 'got',\n",
       " 189: 'horror',\n",
       " 190: 'however',\n",
       " 191: 'fact',\n",
       " 192: 'take',\n",
       " 193: 'enough',\n",
       " 194: 'big',\n",
       " 195: 'long',\n",
       " 196: 'thought',\n",
       " 197: 'both',\n",
       " 198: 'series',\n",
       " 199: 'between',\n",
       " 200: 'may',\n",
       " 201: 'give',\n",
       " 202: 'original',\n",
       " 203: 'own',\n",
       " 204: 'action',\n",
       " 205: 'right',\n",
       " 206: 'without',\n",
       " 207: 'times',\n",
       " 208: 'always',\n",
       " 209: 'comedy',\n",
       " 210: 'point',\n",
       " 211: 'must',\n",
       " 212: 'gets',\n",
       " 213: 'role',\n",
       " 214: 'come',\n",
       " 215: 'family',\n",
       " 216: 'saw',\n",
       " 217: 'almost',\n",
       " 218: 'interesting',\n",
       " 219: 'least',\n",
       " 220: 'done',\n",
       " 221: 'whole',\n",
       " 222: 'bit',\n",
       " 223: 'music',\n",
       " 224: 'script',\n",
       " 225: 'guy',\n",
       " 226: 'far',\n",
       " 227: 'xc2',\n",
       " 228: 'anything',\n",
       " 229: 'making',\n",
       " 230: 'minutes',\n",
       " 231: 'feel',\n",
       " 232: 'last',\n",
       " 233: 'might',\n",
       " 234: 'performance',\n",
       " 235: 'since',\n",
       " 236: '2',\n",
       " 237: 'probably',\n",
       " 238: 'girl',\n",
       " 239: 'kind',\n",
       " 240: 'am',\n",
       " 241: 'away',\n",
       " 242: 'tv',\n",
       " 243: 'yet',\n",
       " 244: 'woman',\n",
       " 245: 'rather',\n",
       " 246: 'day',\n",
       " 247: \"'ve\",\n",
       " 248: 'worst',\n",
       " 249: 'fun',\n",
       " 250: 'sure',\n",
       " 251: 'hard',\n",
       " 252: \"'m\",\n",
       " 253: 'doesn',\n",
       " 254: 'anyone',\n",
       " 255: 'played',\n",
       " 256: \"b'i\",\n",
       " 257: 'each',\n",
       " 258: 'found',\n",
       " 259: 'xc3',\n",
       " 260: 'especially',\n",
       " 261: 'course',\n",
       " 262: 'our',\n",
       " 263: 'believe',\n",
       " 264: 'having',\n",
       " 265: 'comes',\n",
       " 266: 'looking',\n",
       " 267: 'screen',\n",
       " 268: 'although',\n",
       " 269: 'trying',\n",
       " 270: 'goes',\n",
       " 271: 'set',\n",
       " 272: 'looks',\n",
       " 273: 'place',\n",
       " 274: 'book',\n",
       " 275: 'different',\n",
       " 276: 'put',\n",
       " 277: 'money',\n",
       " 278: 'ending',\n",
       " 279: 'actor',\n",
       " 280: 'maybe',\n",
       " 281: 'year',\n",
       " 282: 'sense',\n",
       " 283: 'reason',\n",
       " 284: 'true',\n",
       " 285: 'everything',\n",
       " 286: 'dvd',\n",
       " 287: 'shows',\n",
       " 288: 'once',\n",
       " 289: 'didn',\n",
       " 290: 'someone',\n",
       " 291: 'three',\n",
       " 292: 'worth',\n",
       " 293: 'job',\n",
       " 294: \"'re\",\n",
       " 295: 'main',\n",
       " 296: 'together',\n",
       " 297: 'play',\n",
       " 298: 'watched',\n",
       " 299: 'plays',\n",
       " 300: 'american',\n",
       " 301: '1',\n",
       " 302: 'effects',\n",
       " 303: 'said',\n",
       " 304: 'later',\n",
       " 305: 'takes',\n",
       " 306: 'instead',\n",
       " 307: 'audience',\n",
       " 308: 'seem',\n",
       " 309: 'john',\n",
       " 310: 'beautiful',\n",
       " 311: 'everyone',\n",
       " 312: 'himself',\n",
       " 313: 'version',\n",
       " 314: 'house',\n",
       " 315: 'high',\n",
       " 316: 'night',\n",
       " 317: 'during',\n",
       " 318: 'left',\n",
       " 319: \"i'm\",\n",
       " 320: 'special',\n",
       " 321: 'wife',\n",
       " 322: 'seeing',\n",
       " 323: 'half',\n",
       " 324: 'let',\n",
       " 325: 'star',\n",
       " 326: 'father',\n",
       " 327: 'excellent',\n",
       " 328: 'shot',\n",
       " 329: \"didn't\",\n",
       " 330: 'war',\n",
       " 331: 'idea',\n",
       " 332: 'black',\n",
       " 333: 'nice',\n",
       " 334: 'less',\n",
       " 335: 'mind',\n",
       " 336: 'else',\n",
       " 337: 'read',\n",
       " 338: \"doesn't\",\n",
       " 339: 'second',\n",
       " 340: 'simply',\n",
       " 341: 'fan',\n",
       " 342: 'help',\n",
       " 343: 'death',\n",
       " 344: 'poor',\n",
       " 345: 'completely',\n",
       " 346: '3',\n",
       " 347: 'used',\n",
       " 348: 'men',\n",
       " 349: 'home',\n",
       " 350: 'either',\n",
       " 351: 'short',\n",
       " 352: 'hollywood',\n",
       " 353: 'line',\n",
       " 354: 'dead',\n",
       " 355: 'given',\n",
       " 356: 'top',\n",
       " 357: 'kids',\n",
       " 358: 'budget',\n",
       " 359: 'try',\n",
       " 360: \"b'this\",\n",
       " 361: 'performances',\n",
       " 362: 'wrong',\n",
       " 363: 'classic',\n",
       " 364: 'enjoy',\n",
       " 365: 'boring',\n",
       " 366: 'need',\n",
       " 367: 'rest',\n",
       " 368: 'use',\n",
       " 369: 'low',\n",
       " 370: 'women',\n",
       " 371: 'production',\n",
       " 372: 'isn',\n",
       " 373: 'friends',\n",
       " 374: 'camera',\n",
       " 375: 'until',\n",
       " 376: 'full',\n",
       " 377: 'along',\n",
       " 378: 'truly',\n",
       " 379: 'video',\n",
       " 380: 'awful',\n",
       " 381: 'next',\n",
       " 382: 'tell',\n",
       " 383: 'couple',\n",
       " 384: 'stupid',\n",
       " 385: 'start',\n",
       " 386: 'remember',\n",
       " 387: 'mean',\n",
       " 388: 'sex',\n",
       " 389: 'stars',\n",
       " 390: 'perhaps',\n",
       " 391: 'came',\n",
       " 392: 'recommend',\n",
       " 393: 'moments',\n",
       " 394: 'episode',\n",
       " 395: 'wonderful',\n",
       " 396: 'school',\n",
       " 397: 'understand',\n",
       " 398: 'small',\n",
       " 399: 'face',\n",
       " 400: 'playing',\n",
       " 401: 'terrible',\n",
       " 402: \"i've\",\n",
       " 403: 'getting',\n",
       " 404: 'written',\n",
       " 405: \"'ll\",\n",
       " 406: 'doing',\n",
       " 407: 'early',\n",
       " 408: 'often',\n",
       " 409: 'name',\n",
       " 410: 'keep',\n",
       " 411: 'style',\n",
       " 412: 'perfect',\n",
       " 413: 'human',\n",
       " 414: 'others',\n",
       " 415: 'gives',\n",
       " 416: 'definitely',\n",
       " 417: 'person',\n",
       " 418: 'itself',\n",
       " 419: 'lines',\n",
       " 420: 'live',\n",
       " 421: 'become',\n",
       " 422: \"can't\",\n",
       " 423: 'dialogue',\n",
       " 424: 'head',\n",
       " 425: 'lost',\n",
       " 426: 'piece',\n",
       " 427: 'case',\n",
       " 428: 'felt',\n",
       " 429: 'finally',\n",
       " 430: 'boy',\n",
       " 431: 'supposed',\n",
       " 432: 'liked',\n",
       " 433: 'title',\n",
       " 434: 'yes',\n",
       " 435: 'white',\n",
       " 436: 'picture',\n",
       " 437: 'cinema',\n",
       " 438: 'against',\n",
       " 439: 'absolutely',\n",
       " 440: 'mother',\n",
       " 441: 'sort',\n",
       " 442: 'worse',\n",
       " 443: 'entire',\n",
       " 444: 'went',\n",
       " 445: 'certainly',\n",
       " 446: 'waste',\n",
       " 447: 'problem',\n",
       " 448: 'hope',\n",
       " 449: 'entertaining',\n",
       " 450: 'evil',\n",
       " 451: 'mr',\n",
       " 452: 'overall',\n",
       " 453: 'called',\n",
       " 454: 'children',\n",
       " 455: 'loved',\n",
       " 456: 'based',\n",
       " 457: 'killer',\n",
       " 458: 'several',\n",
       " 459: 'friend',\n",
       " 460: 'fans',\n",
       " 461: \"that's\",\n",
       " 462: 'drama',\n",
       " 463: \"isn't\",\n",
       " 464: 'beginning',\n",
       " 465: 'lives',\n",
       " 466: 'direction',\n",
       " 467: '5',\n",
       " 468: 'care',\n",
       " 469: 'becomes',\n",
       " 470: 'already',\n",
       " 471: \"'d\",\n",
       " 472: 'laugh',\n",
       " 473: 'example',\n",
       " 474: 'oh',\n",
       " 475: 'dark',\n",
       " 476: 'under',\n",
       " 477: 'seemed',\n",
       " 478: 'throughout',\n",
       " 479: '4',\n",
       " 480: 'turn',\n",
       " 481: 'wanted',\n",
       " 482: 'unfortunately',\n",
       " 483: 'x96',\n",
       " 484: 'despite',\n",
       " 485: 'son',\n",
       " 486: 'history',\n",
       " 487: 'fine',\n",
       " 488: 'final',\n",
       " 489: 'sound',\n",
       " 490: 'amazing',\n",
       " 491: 'heart',\n",
       " 492: 'guess',\n",
       " 493: 'lead',\n",
       " 494: 'totally',\n",
       " 495: 'humor',\n",
       " 496: 'michael',\n",
       " 497: 'writing',\n",
       " 498: 'quality',\n",
       " 499: \"there's\",\n",
       " 500: 'guys',\n",
       " 501: 'close',\n",
       " 502: 'wants',\n",
       " 503: 'child',\n",
       " 504: 'works',\n",
       " 505: 'behind',\n",
       " 506: 'tries',\n",
       " 507: 'side',\n",
       " 508: 'art',\n",
       " 509: 'game',\n",
       " 510: 'past',\n",
       " 511: 'days',\n",
       " 512: 'town',\n",
       " 513: 'able',\n",
       " 514: 'hand',\n",
       " 515: 'flick',\n",
       " 516: 'turns',\n",
       " 517: 'genre',\n",
       " 518: 'enjoyed',\n",
       " 519: 'act',\n",
       " 520: 'viewer',\n",
       " 521: 'favorite',\n",
       " 522: 'kill',\n",
       " 523: 'car',\n",
       " 524: 'soon',\n",
       " 525: 'starts',\n",
       " 526: 'gave',\n",
       " 527: 'etc',\n",
       " 528: 'run',\n",
       " 529: 'sometimes',\n",
       " 530: 'actress',\n",
       " 531: 'eyes',\n",
       " 532: 'late',\n",
       " 533: 'directed',\n",
       " 534: 'horrible',\n",
       " 535: 'parts',\n",
       " 536: 'brilliant',\n",
       " 537: 'wasn',\n",
       " 538: 'girls',\n",
       " 539: 'hour',\n",
       " 540: 'themselves',\n",
       " 541: 'self',\n",
       " 542: 'thinking',\n",
       " 543: 'stories',\n",
       " 544: 'expect',\n",
       " 545: 'city',\n",
       " 546: 'stuff',\n",
       " 547: 'kid',\n",
       " 548: 'won',\n",
       " 549: 'god',\n",
       " 550: 'obviously',\n",
       " 551: 'blood',\n",
       " 552: 'decent',\n",
       " 553: 'voice',\n",
       " 554: 'highly',\n",
       " 555: 'myself',\n",
       " 556: 'feeling',\n",
       " 557: 'fight',\n",
       " 558: 'today',\n",
       " 559: 'writer',\n",
       " 560: \"wasn't\",\n",
       " 561: 'matter',\n",
       " 562: 'except',\n",
       " 563: 'slow',\n",
       " 564: 'type',\n",
       " 565: \"he's\",\n",
       " 566: 'anyway',\n",
       " 567: 'roles',\n",
       " 568: 'age',\n",
       " 569: 'heard',\n",
       " 570: 'killed',\n",
       " 571: 'says',\n",
       " 572: 'moment',\n",
       " 573: 'daughter',\n",
       " 574: 'took',\n",
       " 575: 'strong',\n",
       " 576: 'leave',\n",
       " 577: 'cannot',\n",
       " 578: 'violence',\n",
       " 579: 's',\n",
       " 580: 'hit',\n",
       " 581: 'police',\n",
       " 582: 'stop',\n",
       " 583: 'happens',\n",
       " 584: 'particularly',\n",
       " 585: 'known',\n",
       " 586: 'involved',\n",
       " 587: 'happened',\n",
       " 588: 'brother',\n",
       " 589: 'extremely',\n",
       " 590: 'obvious',\n",
       " 591: 'chance',\n",
       " 592: 'told',\n",
       " 593: 'living',\n",
       " 594: 'experience',\n",
       " 595: 'lack',\n",
       " 596: 'coming',\n",
       " 597: 'alone',\n",
       " 598: 'james',\n",
       " 599: 'including',\n",
       " 600: 'murder',\n",
       " 601: 'attempt',\n",
       " 602: 'happen',\n",
       " 603: 'please',\n",
       " 604: 'wonder',\n",
       " 605: 'gore',\n",
       " 606: 'crap',\n",
       " 607: 'ago',\n",
       " 608: 'group',\n",
       " 609: 'interest',\n",
       " 610: 'complete',\n",
       " 611: 'none',\n",
       " 612: 'score',\n",
       " 613: 'cut',\n",
       " 614: 'simple',\n",
       " 615: 'save',\n",
       " 616: 'hell',\n",
       " 617: 'hero',\n",
       " 618: 'looked',\n",
       " 619: 'number',\n",
       " 620: 'song',\n",
       " 621: 'career',\n",
       " 622: 'husband',\n",
       " 623: 'possible',\n",
       " 624: 'annoying',\n",
       " 625: 'sad',\n",
       " 626: 'shown',\n",
       " 627: 'exactly',\n",
       " 628: 'seriously',\n",
       " 629: 'running',\n",
       " 630: 'musical',\n",
       " 631: 'serious',\n",
       " 632: 'yourself',\n",
       " 633: 'taken',\n",
       " 634: 'whose',\n",
       " 635: 'david',\n",
       " 636: 'cinematography',\n",
       " 637: 'released',\n",
       " 638: 'ends',\n",
       " 639: 'scary',\n",
       " 640: 'reality',\n",
       " 641: 'hours',\n",
       " 642: 'english',\n",
       " 643: 'usually',\n",
       " 644: 'light',\n",
       " 645: 'opening',\n",
       " 646: 'jokes',\n",
       " 647: 'across',\n",
       " 648: 'body',\n",
       " 649: 'hilarious',\n",
       " 650: 'somewhat',\n",
       " 651: 'relationship',\n",
       " 652: 'usual',\n",
       " 653: 'started',\n",
       " 654: 'cool',\n",
       " 655: 'view',\n",
       " 656: 'level',\n",
       " 657: 'ridiculous',\n",
       " 658: 'change',\n",
       " 659: 'opinion',\n",
       " 660: 'happy',\n",
       " 661: 'wish',\n",
       " 662: 'middle',\n",
       " 663: 'king',\n",
       " 664: 'novel',\n",
       " 665: 'taking',\n",
       " 666: 'ones',\n",
       " 667: 'talking',\n",
       " 668: 'ok',\n",
       " 669: 'finds',\n",
       " 670: 'order',\n",
       " 671: 'shots',\n",
       " 672: 'documentary',\n",
       " 673: 'saying',\n",
       " 674: 'huge',\n",
       " 675: 'female',\n",
       " 676: 'room',\n",
       " 677: 'mostly',\n",
       " 678: 'power',\n",
       " 679: 'episodes',\n",
       " 680: 'robert',\n",
       " 681: 'important',\n",
       " 682: 'talent',\n",
       " 683: 'rating',\n",
       " 684: 'word',\n",
       " 685: 'turned',\n",
       " 686: 'strange',\n",
       " 687: 'major',\n",
       " 688: 'five',\n",
       " 689: 'modern',\n",
       " 690: 'call',\n",
       " 691: 'single',\n",
       " 692: 'disappointed',\n",
       " 693: 'country',\n",
       " 694: 'apparently',\n",
       " 695: 'events',\n",
       " 696: 'due',\n",
       " 697: 'songs',\n",
       " 698: 'attention',\n",
       " 699: 'earth',\n",
       " 700: '7',\n",
       " 701: 'four',\n",
       " 702: 'television',\n",
       " 703: 'jack',\n",
       " 704: 'knows',\n",
       " 705: 'comic',\n",
       " 706: 'non',\n",
       " 707: 'knew',\n",
       " 708: 'clearly',\n",
       " 709: 'basically',\n",
       " 710: 'supporting',\n",
       " 711: 'british',\n",
       " 712: 'future',\n",
       " 713: 'fast',\n",
       " 714: '8',\n",
       " 715: 'class',\n",
       " 716: 'cheap',\n",
       " 717: 'thriller',\n",
       " 718: 'problems',\n",
       " 719: 'silly',\n",
       " 720: 'easily',\n",
       " 721: 'tells',\n",
       " 722: 'miss',\n",
       " 723: 'local',\n",
       " 724: 'paul',\n",
       " 725: 'words',\n",
       " 726: 'sequence',\n",
       " 727: 'entertainment',\n",
       " 728: 'bring',\n",
       " 729: 'beyond',\n",
       " 730: 'rock',\n",
       " 731: 'oscar',\n",
       " 732: 'upon',\n",
       " 733: 'straight',\n",
       " 734: 'whether',\n",
       " 735: 'moving',\n",
       " 736: 'sets',\n",
       " 737: 'predictable',\n",
       " 738: 'similar',\n",
       " 739: 'romantic',\n",
       " 740: 'review',\n",
       " 741: 'falls',\n",
       " 742: 'mystery',\n",
       " 743: 'george',\n",
       " 744: 'needs',\n",
       " 745: 'appears',\n",
       " 746: 'enjoyable',\n",
       " 747: 'giving',\n",
       " 748: 'eye',\n",
       " 749: 'clich',\n",
       " 750: 'talk',\n",
       " 751: 'lady',\n",
       " 752: 'within',\n",
       " 753: 'richard',\n",
       " 754: \"b'\",\n",
       " 755: 'animation',\n",
       " 756: 'theater',\n",
       " 757: 'message',\n",
       " 758: 'ten',\n",
       " 759: 'near',\n",
       " 760: 'couldn',\n",
       " 761: 'above',\n",
       " 762: 'theme',\n",
       " 763: 'sequel',\n",
       " 764: 'nearly',\n",
       " 765: 'team',\n",
       " 766: 'points',\n",
       " 767: 'stand',\n",
       " 768: 'dull',\n",
       " 769: \"you're\",\n",
       " 770: 'mention',\n",
       " 771: 'bunch',\n",
       " 772: 'herself',\n",
       " 773: 'feels',\n",
       " 774: 'add',\n",
       " 775: 'release',\n",
       " 776: \"b'the\",\n",
       " 777: 'storyline',\n",
       " 778: 'ways',\n",
       " 779: 'sister',\n",
       " 780: 'surprised',\n",
       " 781: 'red',\n",
       " 782: 'named',\n",
       " 783: 'using',\n",
       " 784: 'york',\n",
       " 785: 'fantastic',\n",
       " 786: 'easy',\n",
       " 787: 'lots',\n",
       " 788: 'begins',\n",
       " 789: 'actual',\n",
       " 790: 't',\n",
       " 791: 'working',\n",
       " 792: 'effort',\n",
       " 793: 'lee',\n",
       " 794: 'tale',\n",
       " 795: 'minute',\n",
       " 796: 'die',\n",
       " 797: 'hate',\n",
       " 798: 'clear',\n",
       " 799: 'french',\n",
       " 800: 'stay',\n",
       " 801: 'elements',\n",
       " 802: 'feature',\n",
       " 803: 'among',\n",
       " 804: 'viewers',\n",
       " 805: '9',\n",
       " 806: 'follow',\n",
       " 807: 're',\n",
       " 808: 'comments',\n",
       " 809: 'editing',\n",
       " 810: 'avoid',\n",
       " 811: 'showing',\n",
       " 812: 'tried',\n",
       " 813: 'typical',\n",
       " 814: 'famous',\n",
       " 815: 'fall',\n",
       " 816: 'season',\n",
       " 817: 'tom',\n",
       " 818: 'dialog',\n",
       " 819: 'check',\n",
       " 820: 'period',\n",
       " 821: 'form',\n",
       " 822: 'soundtrack',\n",
       " 823: 'certain',\n",
       " 824: 'filmed',\n",
       " 825: 'sorry',\n",
       " 826: 'means',\n",
       " 827: 'buy',\n",
       " 828: 'material',\n",
       " 829: 'realistic',\n",
       " 830: 'weak',\n",
       " 831: 'peter',\n",
       " 832: 'crime',\n",
       " 833: 'figure',\n",
       " 834: 'doubt',\n",
       " 835: 'somehow',\n",
       " 836: 'general',\n",
       " 837: 'gone',\n",
       " 838: 'kept',\n",
       " 839: 'viewing',\n",
       " 840: 'leads',\n",
       " 841: 'parents',\n",
       " 842: 'greatest',\n",
       " 843: 'space',\n",
       " 844: 'dance',\n",
       " 845: 'suspense',\n",
       " 846: 'lame',\n",
       " 847: 'third',\n",
       " 848: 'brought',\n",
       " 849: 'atmosphere',\n",
       " 850: 'hear',\n",
       " 851: 'imagine',\n",
       " 852: 'particular',\n",
       " 853: 'sequences',\n",
       " 854: 'move',\n",
       " 855: 'whatever',\n",
       " 856: 'indeed',\n",
       " 857: 'eventually',\n",
       " 858: 'learn',\n",
       " 859: 'rent',\n",
       " 860: 'de',\n",
       " 861: 'reviews',\n",
       " 862: 'zombie',\n",
       " 863: 'deal',\n",
       " 864: 'wait',\n",
       " 865: 'average',\n",
       " 866: 'japanese',\n",
       " 867: 'sexual',\n",
       " 868: 'note',\n",
       " 869: 'forget',\n",
       " 870: 'premise',\n",
       " 871: 'surprise',\n",
       " 872: 'poorly',\n",
       " 873: 'believable',\n",
       " 874: 'stage',\n",
       " 875: 'sit',\n",
       " 876: 'disney',\n",
       " 877: 'nature',\n",
       " 878: 'possibly',\n",
       " 879: 'decided',\n",
       " 880: 'expected',\n",
       " 881: 'subject',\n",
       " 882: 'became',\n",
       " 883: 'america',\n",
       " 884: 'screenplay',\n",
       " 885: 'truth',\n",
       " 886: 'free',\n",
       " 887: 'killing',\n",
       " 888: 'difficult',\n",
       " 889: 'xa9',\n",
       " 890: 'romance',\n",
       " 891: 'imdb',\n",
       " 892: '20',\n",
       " 893: 'nor',\n",
       " 894: 'dr',\n",
       " 895: 'question',\n",
       " 896: 'street',\n",
       " 897: 'leaves',\n",
       " 898: 'needed',\n",
       " 899: 'baby',\n",
       " 900: \"couldn't\",\n",
       " 901: 'reading',\n",
       " 902: 'begin',\n",
       " 903: 'meets',\n",
       " 904: 'hot',\n",
       " 905: 'dog',\n",
       " 906: 'directors',\n",
       " 907: 'credits',\n",
       " 908: 'unless',\n",
       " 909: 'joe',\n",
       " 910: 'otherwise',\n",
       " 911: 'write',\n",
       " 912: 'superb',\n",
       " 913: 'society',\n",
       " 914: 'shame',\n",
       " 915: 'situation',\n",
       " 916: 'okay',\n",
       " 917: 'dramatic',\n",
       " 918: 'memorable',\n",
       " 919: 'weird',\n",
       " 920: 'open',\n",
       " 921: 'badly',\n",
       " 922: 'earlier',\n",
       " 923: 'meet',\n",
       " 924: 'male',\n",
       " 925: 'acted',\n",
       " 926: 'forced',\n",
       " 927: 'emotional',\n",
       " 928: 'sci',\n",
       " 929: 'fi',\n",
       " 930: 'writers',\n",
       " 931: 'laughs',\n",
       " 932: 'dream',\n",
       " 933: 'older',\n",
       " 934: 'realize',\n",
       " 935: 'forward',\n",
       " 936: 'footage',\n",
       " 937: 'interested',\n",
       " 938: 'comment',\n",
       " 939: 'crazy',\n",
       " 940: 'beauty',\n",
       " 941: 'fantasy',\n",
       " 942: 'whom',\n",
       " 943: 'sounds',\n",
       " 944: 'plus',\n",
       " 945: 'deep',\n",
       " 946: 'monster',\n",
       " 947: 'directing',\n",
       " 948: 'ask',\n",
       " 949: 'keeps',\n",
       " 950: 'features',\n",
       " 951: 'development',\n",
       " 952: 'mess',\n",
       " 953: 'air',\n",
       " 954: 'quickly',\n",
       " 955: 'mark',\n",
       " 956: 'perfectly',\n",
       " 957: 'towards',\n",
       " 958: 'box',\n",
       " 959: 'd',\n",
       " 960: 'creepy',\n",
       " 961: 'worked',\n",
       " 962: 'setting',\n",
       " 963: 'result',\n",
       " 964: 'unique',\n",
       " 965: 'cheesy',\n",
       " 966: 'plenty',\n",
       " 967: 'brings',\n",
       " 968: 'e',\n",
       " 969: 'hands',\n",
       " 970: 'total',\n",
       " 971: 'effect',\n",
       " 972: 'previous',\n",
       " 973: 'girlfriend',\n",
       " 974: 'jane',\n",
       " 975: 'fire',\n",
       " 976: 'personal',\n",
       " 977: 'bill',\n",
       " 978: 'incredibly',\n",
       " 979: 'rate',\n",
       " 980: 'business',\n",
       " 981: 'leading',\n",
       " 982: 'joke',\n",
       " 983: 'casting',\n",
       " 984: 'admit',\n",
       " 985: 'background',\n",
       " 986: 'appear',\n",
       " 987: 'powerful',\n",
       " 988: 'apart',\n",
       " 989: 'present',\n",
       " 990: 'telling',\n",
       " 991: 'christmas',\n",
       " 992: 'meant',\n",
       " 993: 'potential',\n",
       " 994: 'battle',\n",
       " 995: 'hardly',\n",
       " 996: 'break',\n",
       " 997: 'create',\n",
       " 998: 'era',\n",
       " 999: 'return',\n",
       " 1000: 'boys',\n",
       " ...}"
      ]
     },
     "execution_count": 29,
     "metadata": {},
     "output_type": "execute_result"
    }
   ],
   "source": [
    "reverse_word_index=dict([(value, key) for (key, value) in word_index.items()])\n",
    "reverse_word_index"
   ]
  },
  {
   "cell_type": "code",
   "execution_count": 36,
   "metadata": {},
   "outputs": [],
   "source": [
    "import io\n",
    "\n",
    "out_v = io.open('vecs.tsv', 'w', encoding='utf-8')\n",
    "\n",
    "out_m = io.open('meta.tsv', 'w', encoding='utf-8')"
   ]
  },
  {
   "cell_type": "code",
   "execution_count": 37,
   "metadata": {},
   "outputs": [],
   "source": [
    "for word_num in range(1, vocab_size):\n",
    "    word = reverse_word_index[word_num]\n",
    "    embeddings = weights[word_num]\n",
    "    out_m.write(word + \"\\n\")\n",
    "    out_v.write('\\t'.join([str(x) for x in embeddings]) + \"\\n\")\n",
    "out_v.close()\n",
    "out_m.close()"
   ]
  },
  {
   "cell_type": "markdown",
   "metadata": {},
   "source": [
    "Now, download these *.tsv files, and\n",
    "\n",
    "go to [tensorflow embedding projection site](https://projector.tensorflow.org/).\n",
    "\n",
    "![](images/embedding-projector1.png)\n",
    "\n",
    "Click 'load' "
   ]
  },
  {
   "cell_type": "code",
   "execution_count": null,
   "metadata": {},
   "outputs": [],
   "source": []
  }
 ],
 "metadata": {
  "kernelspec": {
   "display_name": "conda_amazonei_tensorflow_p36",
   "language": "python",
   "name": "conda_amazonei_tensorflow_p36"
  },
  "language_info": {
   "codemirror_mode": {
    "name": "ipython",
    "version": 3
   },
   "file_extension": ".py",
   "mimetype": "text/x-python",
   "name": "python",
   "nbconvert_exporter": "python",
   "pygments_lexer": "ipython3",
   "version": "3.6.5"
  }
 },
 "nbformat": 4,
 "nbformat_minor": 2
}

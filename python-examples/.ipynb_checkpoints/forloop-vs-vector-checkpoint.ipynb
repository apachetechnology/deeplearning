{
 "cells": [
  {
   "cell_type": "code",
   "execution_count": 1,
   "metadata": {},
   "outputs": [
    {
     "data": {
      "text/plain": [
       "array([1, 2, 3, 4])"
      ]
     },
     "execution_count": 1,
     "metadata": {},
     "output_type": "execute_result"
    }
   ],
   "source": [
    "import numpy as np\n",
    "\n",
    "a=np.array([1,2,3,4])\n",
    "a"
   ]
  },
  {
   "cell_type": "code",
   "execution_count": 16,
   "metadata": {},
   "outputs": [
    {
     "name": "stdout",
     "output_type": "stream",
     "text": [
      "249894.81121245175\n",
      "vectorized version:0.9729862213134766 ms\n",
      "249894.81121245382\n",
      "for loop version:327.1458148956299 ms\n"
     ]
    }
   ],
   "source": [
    "import time\n",
    "\n",
    "a=np.random.rand(1000000)\n",
    "b=np.random.rand(1000000)\n",
    "\n",
    "tic=time.time()\n",
    "c=np.dot(a,b)\n",
    "toc=time.time()\n",
    "\n",
    "print(c)\n",
    "print(\"vectorized version:\" +str(1000*(toc-tic)) +\" ms\")\n",
    "\n",
    "c=0\n",
    "tic=time.time()\n",
    "for i in range(1000000):\n",
    "    c += a[i]*b[i]\n",
    "toc=time.time()\n",
    "\n",
    "print(c)\n",
    "print(\"for loop version:\" +str(1000*(toc-tic)) +\" ms\")\n"
   ]
  },
  {
   "cell_type": "code",
   "execution_count": 21,
   "metadata": {},
   "outputs": [
    {
     "name": "stdout",
     "output_type": "stream",
     "text": [
      "[[1.16788691]\n",
      " [2.55600839]\n",
      " [2.28070859]\n",
      " ...\n",
      " [1.0695791 ]\n",
      " [1.93408517]\n",
      " [1.35158682]]\n",
      "vectorized version:33.93435478210449 ms\n"
     ]
    }
   ],
   "source": [
    "import math\n",
    "n=100000\n",
    "v=np.random.rand(1000000)\n",
    "u=np.zeros((n,1))\n",
    "tic=time.time()\n",
    "for i in range (n):\n",
    "    u[i]=math.exp(v[i])\n",
    "toc=time.time()\n",
    "\n",
    "print (u)\n",
    "print(\"vectorized version:\" +str(1000*(toc-tic)) +\" ms\")"
   ]
  },
  {
   "cell_type": "code",
   "execution_count": 23,
   "metadata": {},
   "outputs": [
    {
     "name": "stdout",
     "output_type": "stream",
     "text": [
      "[1.16788691 2.55600839 2.28070859 ... 1.83544074 1.96388581 2.55276302]\n",
      "vectorized version:1.992940902709961 ms\n"
     ]
    }
   ],
   "source": [
    "import numpy as np\n",
    "tic=time.time()\n",
    "u=np.exp(v)\n",
    "toc=time.time()\n",
    "print (u)\n",
    "print(\"vectorized version:\" +str(1000*(toc-tic)) +\" ms\")"
   ]
  },
  {
   "cell_type": "code",
   "execution_count": null,
   "metadata": {},
   "outputs": [],
   "source": []
  }
 ],
 "metadata": {
  "kernelspec": {
   "display_name": "Python 3",
   "language": "python",
   "name": "python3"
  },
  "language_info": {
   "codemirror_mode": {
    "name": "ipython",
    "version": 3
   },
   "file_extension": ".py",
   "mimetype": "text/x-python",
   "name": "python",
   "nbconvert_exporter": "python",
   "pygments_lexer": "ipython3",
   "version": "3.6.6"
  }
 },
 "nbformat": 4,
 "nbformat_minor": 2
}

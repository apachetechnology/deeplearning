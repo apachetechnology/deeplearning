{
 "cells": [
  {
   "cell_type": "code",
   "execution_count": 1,
   "metadata": {},
   "outputs": [],
   "source": [
    "import numpy as np"
   ]
  },
  {
   "cell_type": "code",
   "execution_count": 7,
   "metadata": {},
   "outputs": [],
   "source": [
    "a=np.array([[3,0,1,2,7,4],[1,5,8,9,3,1],[2,7,2,5,1,3],[0,1,3,1,7,8],[4,2,1,6,2,8],[2,4,5,2,3,9]])\n",
    "filter=np.array([[1,0,-1],[1,0,-1],[1,0,-1]])"
   ]
  },
  {
   "cell_type": "code",
   "execution_count": 8,
   "metadata": {},
   "outputs": [
    {
     "data": {
      "text/plain": [
       "(6, 6)"
      ]
     },
     "execution_count": 8,
     "metadata": {},
     "output_type": "execute_result"
    }
   ],
   "source": [
    "a.shape"
   ]
  },
  {
   "cell_type": "code",
   "execution_count": 10,
   "metadata": {},
   "outputs": [
    {
     "data": {
      "text/plain": [
       "(2, 3)"
      ]
     },
     "execution_count": 10,
     "metadata": {},
     "output_type": "execute_result"
    }
   ],
   "source": [
    "np.array([[0, 1, 2], [3, 4, 5]]).shape"
   ]
  },
  {
   "cell_type": "code",
   "execution_count": 12,
   "metadata": {},
   "outputs": [],
   "source": [
    "from skimage.util.shape import view_as_windows\n",
    "\n",
    "def strided4D_v2(arr,arr2,s):\n",
    "    return view_as_windows(arr, arr2.shape, step=s)"
   ]
  },
  {
   "cell_type": "code",
   "execution_count": 13,
   "metadata": {},
   "outputs": [
    {
     "data": {
      "text/plain": [
       "array([[[[3, 0, 1],\n",
       "         [1, 5, 8],\n",
       "         [2, 7, 2]],\n",
       "\n",
       "        [[0, 1, 2],\n",
       "         [5, 8, 9],\n",
       "         [7, 2, 5]],\n",
       "\n",
       "        [[1, 2, 7],\n",
       "         [8, 9, 3],\n",
       "         [2, 5, 1]],\n",
       "\n",
       "        [[2, 7, 4],\n",
       "         [9, 3, 1],\n",
       "         [5, 1, 3]]],\n",
       "\n",
       "\n",
       "       [[[1, 5, 8],\n",
       "         [2, 7, 2],\n",
       "         [0, 1, 3]],\n",
       "\n",
       "        [[5, 8, 9],\n",
       "         [7, 2, 5],\n",
       "         [1, 3, 1]],\n",
       "\n",
       "        [[8, 9, 3],\n",
       "         [2, 5, 1],\n",
       "         [3, 1, 7]],\n",
       "\n",
       "        [[9, 3, 1],\n",
       "         [5, 1, 3],\n",
       "         [1, 7, 8]]],\n",
       "\n",
       "\n",
       "       [[[2, 7, 2],\n",
       "         [0, 1, 3],\n",
       "         [4, 2, 1]],\n",
       "\n",
       "        [[7, 2, 5],\n",
       "         [1, 3, 1],\n",
       "         [2, 1, 6]],\n",
       "\n",
       "        [[2, 5, 1],\n",
       "         [3, 1, 7],\n",
       "         [1, 6, 2]],\n",
       "\n",
       "        [[5, 1, 3],\n",
       "         [1, 7, 8],\n",
       "         [6, 2, 8]]],\n",
       "\n",
       "\n",
       "       [[[0, 1, 3],\n",
       "         [4, 2, 1],\n",
       "         [2, 4, 5]],\n",
       "\n",
       "        [[1, 3, 1],\n",
       "         [2, 1, 6],\n",
       "         [4, 5, 2]],\n",
       "\n",
       "        [[3, 1, 7],\n",
       "         [1, 6, 2],\n",
       "         [5, 2, 3]],\n",
       "\n",
       "        [[1, 7, 8],\n",
       "         [6, 2, 8],\n",
       "         [2, 3, 9]]]])"
      ]
     },
     "execution_count": 13,
     "metadata": {},
     "output_type": "execute_result"
    }
   ],
   "source": [
    "strided4D_v2(a,filter,1)"
   ]
  }
 ],
 "metadata": {
  "kernelspec": {
   "display_name": "Python 3",
   "language": "python",
   "name": "python3"
  },
  "language_info": {
   "codemirror_mode": {
    "name": "ipython",
    "version": 3
   },
   "file_extension": ".py",
   "mimetype": "text/x-python",
   "name": "python",
   "nbconvert_exporter": "python",
   "pygments_lexer": "ipython3",
   "version": "3.6.7"
  }
 },
 "nbformat": 4,
 "nbformat_minor": 2
}

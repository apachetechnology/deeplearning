{
 "cells": [
  {
   "cell_type": "markdown",
   "metadata": {},
   "source": [
    "Problem Statement:\n",
    "\n",
    "We want to minimize a cost function $J(w)=w^2-10w+25=(w-5)^2$\n",
    "\n",
    "This cost function can be written as\n",
    "`cost=tf.add(tf.add(w**2, tf.multiply(-10.,w)),25)` or \n",
    "`cost=w**2-10*w+25`"
   ]
  },
  {
   "cell_type": "code",
   "execution_count": 1,
   "metadata": {},
   "outputs": [],
   "source": [
    "import numpy as np\n",
    "import tensorflow as tf"
   ]
  },
  {
   "cell_type": "code",
   "execution_count": 7,
   "metadata": {},
   "outputs": [
    {
     "name": "stdout",
     "output_type": "stream",
     "text": [
      "0.0\n"
     ]
    }
   ],
   "source": [
    "w=tf.Variable(0,dtype=tf.float32)\n",
    "\n",
    "#cost=tf.add(tf.add(w**2, tf.multiply(-10.,w)),25)\n",
    "cost=w**2-10*w+25\n",
    "train=tf.train.GradientDescentOptimizer(0.01).minimize(cost)\n",
    "\n",
    "init=tf.global_variables_initializer()\n",
    "session=tf.Session()\n",
    "session.run(init)\n",
    "print(session.run(w))"
   ]
  },
  {
   "cell_type": "markdown",
   "metadata": {},
   "source": [
    "We haven't run anything so we get 0.0"
   ]
  },
  {
   "cell_type": "code",
   "execution_count": 5,
   "metadata": {},
   "outputs": [
    {
     "name": "stdout",
     "output_type": "stream",
     "text": [
      "0.099999994\n"
     ]
    }
   ],
   "source": [
    "session.run(train) #run one step of gradient descent\n",
    "print(session.run(w))"
   ]
  },
  {
   "cell_type": "markdown",
   "metadata": {},
   "source": [
    "Let's run 1000 iterations of gradient descent"
   ]
  },
  {
   "cell_type": "code",
   "execution_count": 6,
   "metadata": {},
   "outputs": [
    {
     "name": "stdout",
     "output_type": "stream",
     "text": [
      "4.999988\n"
     ]
    }
   ],
   "source": [
    "for i in range(1000):\n",
    "    session.run(train)\n",
    "print(session.run(w))"
   ]
  },
  {
   "cell_type": "markdown",
   "metadata": {},
   "source": [
    "to get training data..."
   ]
  },
  {
   "cell_type": "code",
   "execution_count": 12,
   "metadata": {},
   "outputs": [
    {
     "name": "stdout",
     "output_type": "stream",
     "text": [
      "0.0\n"
     ]
    }
   ],
   "source": [
    "coefficients=np.array([[1.],[-10.],[25.]])\n",
    "\n",
    "w=tf.Variable(0,dtype=tf.float32)\n",
    "#to get training data...\n",
    "x=tf.placeholder(tf.float32, [3,1])\n",
    "#cost=w**2-10*w+25\n",
    "cost=x[0][0]*w**2+x[1][0]*w+x[2][0]\n",
    "train=tf.train.GradientDescentOptimizer(0.01).minimize(cost)\n",
    "\n",
    "init=tf.global_variables_initializer()\n",
    "session=tf.Session()\n",
    "session.run(init)\n",
    "print(session.run(w))"
   ]
  },
  {
   "cell_type": "code",
   "execution_count": 13,
   "metadata": {},
   "outputs": [
    {
     "name": "stdout",
     "output_type": "stream",
     "text": [
      "0.099999994\n"
     ]
    }
   ],
   "source": [
    "session.run(train, feed_dict={x:coefficients}) #run one step of gradient descent\n",
    "print(session.run(w))"
   ]
  },
  {
   "cell_type": "code",
   "execution_count": 14,
   "metadata": {},
   "outputs": [
    {
     "name": "stdout",
     "output_type": "stream",
     "text": [
      "4.999988\n"
     ]
    }
   ],
   "source": [
    "for i in range(1000):\n",
    "    session.run(train, feed_dict={x:coefficients})\n",
    "print(session.run(w))"
   ]
  },
  {
   "cell_type": "markdown",
   "metadata": {},
   "source": [
    "Following three lines of code in tensorflow are idiomatic.\n",
    "```\n",
    "session=tf.Session()\n",
    "session.run(init)\n",
    "print(session.run(w))\n",
    "```\n",
    "\n",
    "You could also write them as\n",
    "\n",
    "```\n",
    "with tf.Session(as session:\n",
    "    session.run(init)\n",
    "    print(session.run(w))\n",
    "\n",
    "```\n",
    "\n",
    "With tensorflow, no need to wirte code for backprop!\n",
    "\n"
   ]
  },
  {
   "cell_type": "code",
   "execution_count": null,
   "metadata": {},
   "outputs": [],
   "source": []
  },
  {
   "cell_type": "code",
   "execution_count": 21,
   "metadata": {},
   "outputs": [],
   "source": [
    "r = np.random.rand()\n",
    "beta = 1-10**(- r - 1)"
   ]
  },
  {
   "cell_type": "code",
   "execution_count": 22,
   "metadata": {},
   "outputs": [
    {
     "data": {
      "text/plain": [
       "0.20343672879483343"
      ]
     },
     "execution_count": 22,
     "metadata": {},
     "output_type": "execute_result"
    }
   ],
   "source": [
    "r"
   ]
  },
  {
   "cell_type": "code",
   "execution_count": null,
   "metadata": {},
   "outputs": [],
   "source": []
  }
 ],
 "metadata": {
  "kernelspec": {
   "display_name": "Python 3",
   "language": "python",
   "name": "python3"
  },
  "language_info": {
   "codemirror_mode": {
    "name": "ipython",
    "version": 3
   },
   "file_extension": ".py",
   "mimetype": "text/x-python",
   "name": "python",
   "nbconvert_exporter": "python",
   "pygments_lexer": "ipython3",
   "version": "3.6.7"
  }
 },
 "nbformat": 4,
 "nbformat_minor": 2
}

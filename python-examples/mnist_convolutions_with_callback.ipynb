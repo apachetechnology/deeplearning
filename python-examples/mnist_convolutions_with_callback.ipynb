{
  "nbformat": 4,
  "nbformat_minor": 0,
  "metadata": {
    "colab": {
      "name": "mnist-convolutions-with-callback.ipynb",
      "version": "0.3.2",
      "provenance": [],
      "collapsed_sections": []
    },
    "kernelspec": {
      "name": "python3",
      "display_name": "Python 3"
    }
  },
  "cells": [
    {
      "metadata": {
        "id": "iQjHqsmTAVLU",
        "colab_type": "text"
      },
      "cell_type": "markdown",
      "source": [
        "## MNIST\n",
        "Target 99.8% acc with only one single conv layer\n"
      ]
    },
    {
      "metadata": {
        "id": "sfQRyaJWAIdg",
        "colab_type": "code",
        "outputId": "77c24434-0f37-49b2-8d6c-257357ff8d2a",
        "colab": {
          "base_uri": "https://localhost:8080/",
          "height": 799
        }
      },
      "cell_type": "code",
      "source": [
        "import tensorflow as tf\n",
        "\n",
        "\n",
        "class myCallback(tf.keras.callbacks.Callback):\n",
        "  def on_epoch_end(self, epoch, logs={}):\n",
        "    if (logs.get('acc')>0.998):\n",
        "      print('Reached 99.8% accuracy so cancelling training')\n",
        "      self.model.stop_training=True\n",
        "callbacks=myCallback()\n",
        "mnist = tf.keras.datasets.mnist\n",
        "(training_images, training_labels), (test_images, test_labels) = mnist.load_data()\n",
        "training_images=training_images.reshape(60000, 28, 28, 1)\n",
        "training_images=training_images / 255.0\n",
        "test_images = test_images.reshape(10000, 28, 28, 1)\n",
        "test_images=test_images/255.0\n",
        "\n",
        "model = tf.keras.models.Sequential([\n",
        "    tf.keras.layers.Conv2D(64, (3,3), activation=tf.nn.relu, input_shape=(28,28,1)),\n",
        "    tf.keras.layers.MaxPooling2D(2,2),\n",
        "    tf.keras.layers.Flatten(),\n",
        "    tf.keras.layers.Dense(10,activation=tf.nn.softmax)\n",
        "])\n",
        "\n",
        "model.compile(optimizer='adam', loss='sparse_categorical_crossentropy', metrics=['accuracy'])\n",
        "model.summary()\n",
        "model.fit(training_images, training_labels, epochs=20, callbacks=[callbacks])\n"
      ],
      "execution_count": 0,
      "outputs": [
        {
          "output_type": "stream",
          "text": [
            "_________________________________________________________________\n",
            "Layer (type)                 Output Shape              Param #   \n",
            "=================================================================\n",
            "conv2d_3 (Conv2D)            (None, 26, 26, 64)        640       \n",
            "_________________________________________________________________\n",
            "max_pooling2d_2 (MaxPooling2 (None, 13, 13, 64)        0         \n",
            "_________________________________________________________________\n",
            "flatten (Flatten)            (None, 10816)             0         \n",
            "_________________________________________________________________\n",
            "dense_2 (Dense)              (None, 10)                108170    \n",
            "=================================================================\n",
            "Total params: 108,810\n",
            "Trainable params: 108,810\n",
            "Non-trainable params: 0\n",
            "_________________________________________________________________\n",
            "Epoch 1/20\n",
            "60000/60000 [==============================] - 54s 901us/sample - loss: 0.1747 - acc: 0.9507\n",
            "Epoch 2/20\n",
            "60000/60000 [==============================] - 53s 881us/sample - loss: 0.0672 - acc: 0.9802\n",
            "Epoch 3/20\n",
            "60000/60000 [==============================] - 53s 880us/sample - loss: 0.0519 - acc: 0.9845\n",
            "Epoch 4/20\n",
            "60000/60000 [==============================] - 53s 880us/sample - loss: 0.0410 - acc: 0.9873\n",
            "Epoch 5/20\n",
            "60000/60000 [==============================] - 52s 870us/sample - loss: 0.0322 - acc: 0.9901\n",
            "Epoch 6/20\n",
            "60000/60000 [==============================] - 52s 868us/sample - loss: 0.0263 - acc: 0.9923\n",
            "Epoch 7/20\n",
            "60000/60000 [==============================] - 53s 878us/sample - loss: 0.0210 - acc: 0.9934\n",
            "Epoch 8/20\n",
            "60000/60000 [==============================] - 54s 905us/sample - loss: 0.0163 - acc: 0.9953\n",
            "Epoch 9/20\n",
            "60000/60000 [==============================] - 53s 886us/sample - loss: 0.0135 - acc: 0.9960\n",
            "Epoch 10/20\n",
            "60000/60000 [==============================] - 56s 941us/sample - loss: 0.0113 - acc: 0.9967\n",
            "Epoch 11/20\n",
            "60000/60000 [==============================] - 52s 869us/sample - loss: 0.0083 - acc: 0.9978\n",
            "Epoch 12/20\n",
            "60000/60000 [==============================] - 53s 882us/sample - loss: 0.0072 - acc: 0.9980\n",
            "Epoch 13/20\n",
            "59936/60000 [============================>.] - ETA: 0s - loss: 0.0062 - acc: 0.9983Reached 99.8% accuracy so cancelling training\n",
            "60000/60000 [==============================] - 53s 877us/sample - loss: 0.0062 - acc: 0.9983\n"
          ],
          "name": "stdout"
        },
        {
          "output_type": "execute_result",
          "data": {
            "text/plain": [
              "<tensorflow.python.keras.callbacks.History at 0x7f8f088ee710>"
            ]
          },
          "metadata": {
            "tags": []
          },
          "execution_count": 5
        }
      ]
    },
    {
      "metadata": {
        "id": "xQbWgZJ2-0ZA",
        "colab_type": "code",
        "colab": {}
      },
      "cell_type": "code",
      "source": [
        ""
      ],
      "execution_count": 0,
      "outputs": []
    }
  ]
}